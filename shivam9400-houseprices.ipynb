{
 "cells": [
  {
   "cell_type": "markdown",
   "id": "695b0a1c",
   "metadata": {
    "papermill": {
     "duration": 0.010594,
     "end_time": "2023-01-28T20:40:04.344817",
     "exception": false,
     "start_time": "2023-01-28T20:40:04.334223",
     "status": "completed"
    },
    "tags": []
   },
   "source": [
    "## Data Processing"
   ]
  },
  {
   "cell_type": "code",
   "execution_count": 1,
   "id": "4b91b9f2",
   "metadata": {
    "_cell_guid": "b1076dfc-b9ad-4769-8c92-a6c4dae69d19",
    "_uuid": "8f2839f25d086af736a60e9eeb907d3b93b6e0e5",
    "execution": {
     "iopub.execute_input": "2023-01-28T20:40:04.366338Z",
     "iopub.status.busy": "2023-01-28T20:40:04.365704Z",
     "iopub.status.idle": "2023-01-28T20:40:04.388273Z",
     "shell.execute_reply": "2023-01-28T20:40:04.387184Z"
    },
    "papermill": {
     "duration": 0.036859,
     "end_time": "2023-01-28T20:40:04.391450",
     "exception": false,
     "start_time": "2023-01-28T20:40:04.354591",
     "status": "completed"
    },
    "tags": []
   },
   "outputs": [
    {
     "name": "stdout",
     "output_type": "stream",
     "text": [
      "/kaggle/input/house-prices-advanced-regression-techniques/sample_submission.csv\n",
      "/kaggle/input/house-prices-advanced-regression-techniques/data_description.txt\n",
      "/kaggle/input/house-prices-advanced-regression-techniques/train.csv\n",
      "/kaggle/input/house-prices-advanced-regression-techniques/test.csv\n"
     ]
    }
   ],
   "source": [
    "# This Python 3 environment comes with many helpful analytics libraries installed\n",
    "# It is defined by the kaggle/python Docker image: https://github.com/kaggle/docker-python\n",
    "# For example, here's several helpful packages to load\n",
    "\n",
    "import numpy as np # linear algebra\n",
    "import pandas as pd # data processing, CSV file I/O (e.g. pd.read_csv)\n",
    "\n",
    "# Input data files are available in the read-only \"../input/\" directory\n",
    "# For example, running this (by clicking run or pressing Shift+Enter) will list all files under the input directory\n",
    "\n",
    "import os\n",
    "for dirname, _, filenames in os.walk('/kaggle/input'):\n",
    "    for filename in filenames:\n",
    "        print(os.path.join(dirname, filename))\n",
    "\n",
    "# You can write up to 20GB to the current directory (/kaggle/working/) that gets preserved as output when you create a version using \"Save & Run All\" \n",
    "# You can also write temporary files to /kaggle/temp/, but they won't be saved outside of the current session"
   ]
  },
  {
   "cell_type": "code",
   "execution_count": 2,
   "id": "cb20b1c3",
   "metadata": {
    "execution": {
     "iopub.execute_input": "2023-01-28T20:40:04.412659Z",
     "iopub.status.busy": "2023-01-28T20:40:04.412275Z",
     "iopub.status.idle": "2023-01-28T20:40:04.490102Z",
     "shell.execute_reply": "2023-01-28T20:40:04.488926Z"
    },
    "papermill": {
     "duration": 0.091615,
     "end_time": "2023-01-28T20:40:04.492925",
     "exception": false,
     "start_time": "2023-01-28T20:40:04.401310",
     "status": "completed"
    },
    "tags": []
   },
   "outputs": [],
   "source": [
    "df = pd.read_csv(\"/kaggle/input/house-prices-advanced-regression-techniques/train.csv\")\n",
    "df_test = pd.read_csv(\"/kaggle/input/house-prices-advanced-regression-techniques/test.csv\")"
   ]
  },
  {
   "cell_type": "markdown",
   "id": "593bbc2f",
   "metadata": {
    "papermill": {
     "duration": 0.009665,
     "end_time": "2023-01-28T20:40:04.512247",
     "exception": false,
     "start_time": "2023-01-28T20:40:04.502582",
     "status": "completed"
    },
    "tags": []
   },
   "source": [
    "Listing all \"NA\" columns in training dataset..."
   ]
  },
  {
   "cell_type": "code",
   "execution_count": 3,
   "id": "1aa9cccc",
   "metadata": {
    "execution": {
     "iopub.execute_input": "2023-01-28T20:40:04.533845Z",
     "iopub.status.busy": "2023-01-28T20:40:04.533469Z",
     "iopub.status.idle": "2023-01-28T20:40:04.545978Z",
     "shell.execute_reply": "2023-01-28T20:40:04.544469Z"
    },
    "papermill": {
     "duration": 0.025622,
     "end_time": "2023-01-28T20:40:04.548319",
     "exception": false,
     "start_time": "2023-01-28T20:40:04.522697",
     "status": "completed"
    },
    "tags": []
   },
   "outputs": [
    {
     "name": "stdout",
     "output_type": "stream",
     "text": [
      "['LotFrontage', 'Alley', 'MasVnrType', 'MasVnrArea', 'BsmtQual', 'BsmtCond', 'BsmtExposure', 'BsmtFinType1', 'BsmtFinType2', 'Electrical', 'FireplaceQu', 'GarageType', 'GarageYrBlt', 'GarageFinish', 'GarageQual', 'GarageCond', 'PoolQC', 'Fence', 'MiscFeature']\n"
     ]
    }
   ],
   "source": [
    "list_na = [k[0] for k in df.isna().any().to_dict().items() if k[1] == True]\n",
    "print(list_na)"
   ]
  },
  {
   "cell_type": "markdown",
   "id": "8ba5ba7f",
   "metadata": {
    "papermill": {
     "duration": 0.010347,
     "end_time": "2023-01-28T20:40:04.568645",
     "exception": false,
     "start_time": "2023-01-28T20:40:04.558298",
     "status": "completed"
    },
    "tags": []
   },
   "source": [
    "## Fill Missing Values"
   ]
  },
  {
   "cell_type": "markdown",
   "id": "d24dd828",
   "metadata": {
    "papermill": {
     "duration": 0.009271,
     "end_time": "2023-01-28T20:40:04.587718",
     "exception": false,
     "start_time": "2023-01-28T20:40:04.578447",
     "status": "completed"
    },
    "tags": []
   },
   "source": [
    "There are certain cells whose \"NA\" values will take \"No\" values per the dataset description.\n",
    "\n",
    "Listing all such columns..."
   ]
  },
  {
   "cell_type": "code",
   "execution_count": 4,
   "id": "d4e9b771",
   "metadata": {
    "execution": {
     "iopub.execute_input": "2023-01-28T20:40:04.608412Z",
     "iopub.status.busy": "2023-01-28T20:40:04.608047Z",
     "iopub.status.idle": "2023-01-28T20:40:04.612614Z",
     "shell.execute_reply": "2023-01-28T20:40:04.611740Z"
    },
    "papermill": {
     "duration": 0.017551,
     "end_time": "2023-01-28T20:40:04.614736",
     "exception": false,
     "start_time": "2023-01-28T20:40:04.597185",
     "status": "completed"
    },
    "tags": []
   },
   "outputs": [],
   "source": [
    "list_no = ['Alley', 'BsmtQual', 'BsmtCond', 'BsmtExposure', 'BsmtFinType1', 'BsmtFinType2',\n",
    "          'FireplaceQu', 'GarageType', 'GarageFinish', 'GarageQual', 'GarageCond', 'PoolQC',\n",
    "          'Fence']"
   ]
  },
  {
   "cell_type": "code",
   "execution_count": 5,
   "id": "ae3086c0",
   "metadata": {
    "execution": {
     "iopub.execute_input": "2023-01-28T20:40:04.635671Z",
     "iopub.status.busy": "2023-01-28T20:40:04.635264Z",
     "iopub.status.idle": "2023-01-28T20:40:04.644303Z",
     "shell.execute_reply": "2023-01-28T20:40:04.643165Z"
    },
    "papermill": {
     "duration": 0.022218,
     "end_time": "2023-01-28T20:40:04.646442",
     "exception": false,
     "start_time": "2023-01-28T20:40:04.624224",
     "status": "completed"
    },
    "tags": []
   },
   "outputs": [
    {
     "data": {
      "text/plain": [
       "True"
      ]
     },
     "execution_count": 5,
     "metadata": {},
     "output_type": "execute_result"
    }
   ],
   "source": [
    "# Checking if list_no defined above is a subset of list_na \n",
    "set(list_no).issubset(set(list_na))"
   ]
  },
  {
   "cell_type": "code",
   "execution_count": 6,
   "id": "d00dd1b9",
   "metadata": {
    "execution": {
     "iopub.execute_input": "2023-01-28T20:40:04.667784Z",
     "iopub.status.busy": "2023-01-28T20:40:04.667371Z",
     "iopub.status.idle": "2023-01-28T20:40:04.687276Z",
     "shell.execute_reply": "2023-01-28T20:40:04.686309Z"
    },
    "papermill": {
     "duration": 0.033591,
     "end_time": "2023-01-28T20:40:04.689712",
     "exception": false,
     "start_time": "2023-01-28T20:40:04.656121",
     "status": "completed"
    },
    "tags": []
   },
   "outputs": [],
   "source": [
    "df_tr = df.copy()\n",
    "\n",
    "for j in list_no:\n",
    "    df_tr[j].fillna(\"No\", inplace=True)\n",
    "    df_test[j].fillna(\"No\", inplace=True)"
   ]
  },
  {
   "cell_type": "markdown",
   "id": "44624cd6",
   "metadata": {
    "papermill": {
     "duration": 0.009888,
     "end_time": "2023-01-28T20:40:04.712037",
     "exception": false,
     "start_time": "2023-01-28T20:40:04.702149",
     "status": "completed"
    },
    "tags": []
   },
   "source": [
    "From above processing, few columns in \"NA\" list have been filled with \"No\" values per list list_no. Now, we will address missing values in remaining columns.\n",
    "\n",
    "Getting list of remaining columns..."
   ]
  },
  {
   "cell_type": "code",
   "execution_count": 7,
   "id": "a3e55c4f",
   "metadata": {
    "execution": {
     "iopub.execute_input": "2023-01-28T20:40:04.733358Z",
     "iopub.status.busy": "2023-01-28T20:40:04.732980Z",
     "iopub.status.idle": "2023-01-28T20:40:04.739976Z",
     "shell.execute_reply": "2023-01-28T20:40:04.738829Z"
    },
    "papermill": {
     "duration": 0.020268,
     "end_time": "2023-01-28T20:40:04.742172",
     "exception": false,
     "start_time": "2023-01-28T20:40:04.721904",
     "status": "completed"
    },
    "tags": []
   },
   "outputs": [
    {
     "data": {
      "text/plain": [
       "['GarageYrBlt',\n",
       " 'MasVnrType',\n",
       " 'MasVnrArea',\n",
       " 'LotFrontage',\n",
       " 'Electrical',\n",
       " 'MiscFeature']"
      ]
     },
     "execution_count": 7,
     "metadata": {},
     "output_type": "execute_result"
    }
   ],
   "source": [
    "list_na_ = list(set(list_na) - set(list_no))\n",
    "list_na_"
   ]
  },
  {
   "cell_type": "code",
   "execution_count": 8,
   "id": "a8eb8236",
   "metadata": {
    "execution": {
     "iopub.execute_input": "2023-01-28T20:40:04.763458Z",
     "iopub.status.busy": "2023-01-28T20:40:04.763068Z",
     "iopub.status.idle": "2023-01-28T20:40:04.769411Z",
     "shell.execute_reply": "2023-01-28T20:40:04.768232Z"
    },
    "papermill": {
     "duration": 0.020432,
     "end_time": "2023-01-28T20:40:04.772421",
     "exception": false,
     "start_time": "2023-01-28T20:40:04.751989",
     "status": "completed"
    },
    "tags": []
   },
   "outputs": [
    {
     "name": "stdout",
     "output_type": "stream",
     "text": [
      "float64\n",
      "object\n",
      "float64\n",
      "float64\n",
      "object\n",
      "object\n"
     ]
    }
   ],
   "source": [
    "# Printing datatype of remaining columns with \"NA\" values\n",
    "for k in list_na_:\n",
    "    print(df_tr[k].dtype)"
   ]
  },
  {
   "cell_type": "markdown",
   "id": "7e7089d9",
   "metadata": {
    "papermill": {
     "duration": 0.009512,
     "end_time": "2023-01-28T20:40:04.791742",
     "exception": false,
     "start_time": "2023-01-28T20:40:04.782230",
     "status": "completed"
    },
    "tags": []
   },
   "source": [
    "If column is of type \"float64\" or \"int64\", we will replace the null values by the mean of the column. \n",
    "\n",
    "For other datatypes, we will fill by mode.\n",
    "\n",
    "Filling Null values in Training dataset..."
   ]
  },
  {
   "cell_type": "code",
   "execution_count": 9,
   "id": "e461835f",
   "metadata": {
    "execution": {
     "iopub.execute_input": "2023-01-28T20:40:04.813004Z",
     "iopub.status.busy": "2023-01-28T20:40:04.812593Z",
     "iopub.status.idle": "2023-01-28T20:40:04.827022Z",
     "shell.execute_reply": "2023-01-28T20:40:04.825917Z"
    },
    "papermill": {
     "duration": 0.027877,
     "end_time": "2023-01-28T20:40:04.829365",
     "exception": false,
     "start_time": "2023-01-28T20:40:04.801488",
     "status": "completed"
    },
    "tags": []
   },
   "outputs": [],
   "source": [
    "for k in list_na_:\n",
    "    if (df_tr[k].dtype =='float64') or (df_tr[k].dtype =='int64'):\n",
    "        df_tr[k].fillna(df_tr[k].mean(), inplace=True)\n",
    "    else:\n",
    "        df_tr[k].fillna(df_tr[k].mode()[0], inplace=True)"
   ]
  },
  {
   "cell_type": "markdown",
   "id": "9d48b002",
   "metadata": {
    "papermill": {
     "duration": 0.00944,
     "end_time": "2023-01-28T20:40:04.848702",
     "exception": false,
     "start_time": "2023-01-28T20:40:04.839262",
     "status": "completed"
    },
    "tags": []
   },
   "source": [
    "We had filled \"No\" values in test dataset.\n",
    "\n",
    "Filling null values for remaining columns in test dataset..."
   ]
  },
  {
   "cell_type": "code",
   "execution_count": 10,
   "id": "f514dbba",
   "metadata": {
    "execution": {
     "iopub.execute_input": "2023-01-28T20:40:04.869804Z",
     "iopub.status.busy": "2023-01-28T20:40:04.869431Z",
     "iopub.status.idle": "2023-01-28T20:40:04.918398Z",
     "shell.execute_reply": "2023-01-28T20:40:04.917393Z"
    },
    "papermill": {
     "duration": 0.062763,
     "end_time": "2023-01-28T20:40:04.921173",
     "exception": false,
     "start_time": "2023-01-28T20:40:04.858410",
     "status": "completed"
    },
    "tags": []
   },
   "outputs": [],
   "source": [
    "for k in df_test.columns:\n",
    "    if df_test[k].dtype =='float64' or df_test[k].dtype =='int64':\n",
    "        df_test[k].fillna(df_test[k].mean(), inplace=True)\n",
    "    else:\n",
    "        df_test[k].fillna(df_test[k].mode()[0], inplace=True)"
   ]
  },
  {
   "cell_type": "markdown",
   "id": "f088a7fb",
   "metadata": {
    "papermill": {
     "duration": 0.009639,
     "end_time": "2023-01-28T20:40:04.940787",
     "exception": false,
     "start_time": "2023-01-28T20:40:04.931148",
     "status": "completed"
    },
    "tags": []
   },
   "source": [
    "Checking if there is remaining null values in integer type columns in training dataset."
   ]
  },
  {
   "cell_type": "code",
   "execution_count": 11,
   "id": "ea4cde29",
   "metadata": {
    "execution": {
     "iopub.execute_input": "2023-01-28T20:40:04.962719Z",
     "iopub.status.busy": "2023-01-28T20:40:04.962340Z",
     "iopub.status.idle": "2023-01-28T20:40:04.976375Z",
     "shell.execute_reply": "2023-01-28T20:40:04.975576Z"
    },
    "papermill": {
     "duration": 0.027688,
     "end_time": "2023-01-28T20:40:04.978384",
     "exception": false,
     "start_time": "2023-01-28T20:40:04.950696",
     "status": "completed"
    },
    "tags": []
   },
   "outputs": [
    {
     "data": {
      "text/plain": [
       "0"
      ]
     },
     "execution_count": 11,
     "metadata": {},
     "output_type": "execute_result"
    }
   ],
   "source": [
    "list_int = [k for k in df_tr.columns if df_tr[k].dtype=='int64']\n",
    "df_tr[list_int].isna().any().sum()"
   ]
  },
  {
   "cell_type": "code",
   "execution_count": 12,
   "id": "0e927302",
   "metadata": {
    "execution": {
     "iopub.execute_input": "2023-01-28T20:40:05.000234Z",
     "iopub.status.busy": "2023-01-28T20:40:04.999801Z",
     "iopub.status.idle": "2023-01-28T20:40:05.113161Z",
     "shell.execute_reply": "2023-01-28T20:40:05.112048Z"
    },
    "papermill": {
     "duration": 0.12724,
     "end_time": "2023-01-28T20:40:05.115635",
     "exception": false,
     "start_time": "2023-01-28T20:40:04.988395",
     "status": "completed"
    },
    "tags": []
   },
   "outputs": [
    {
     "data": {
      "text/html": [
       "<div>\n",
       "<style scoped>\n",
       "    .dataframe tbody tr th:only-of-type {\n",
       "        vertical-align: middle;\n",
       "    }\n",
       "\n",
       "    .dataframe tbody tr th {\n",
       "        vertical-align: top;\n",
       "    }\n",
       "\n",
       "    .dataframe thead th {\n",
       "        text-align: right;\n",
       "    }\n",
       "</style>\n",
       "<table border=\"1\" class=\"dataframe\">\n",
       "  <thead>\n",
       "    <tr style=\"text-align: right;\">\n",
       "      <th></th>\n",
       "      <th>Id</th>\n",
       "      <th>MSSubClass</th>\n",
       "      <th>LotFrontage</th>\n",
       "      <th>LotArea</th>\n",
       "      <th>OverallQual</th>\n",
       "      <th>OverallCond</th>\n",
       "      <th>YearBuilt</th>\n",
       "      <th>YearRemodAdd</th>\n",
       "      <th>MasVnrArea</th>\n",
       "      <th>BsmtFinSF1</th>\n",
       "      <th>...</th>\n",
       "      <th>WoodDeckSF</th>\n",
       "      <th>OpenPorchSF</th>\n",
       "      <th>EnclosedPorch</th>\n",
       "      <th>3SsnPorch</th>\n",
       "      <th>ScreenPorch</th>\n",
       "      <th>PoolArea</th>\n",
       "      <th>MiscVal</th>\n",
       "      <th>MoSold</th>\n",
       "      <th>YrSold</th>\n",
       "      <th>SalePrice</th>\n",
       "    </tr>\n",
       "  </thead>\n",
       "  <tbody>\n",
       "    <tr>\n",
       "      <th>count</th>\n",
       "      <td>1460.000000</td>\n",
       "      <td>1460.000000</td>\n",
       "      <td>1460.000000</td>\n",
       "      <td>1460.000000</td>\n",
       "      <td>1460.000000</td>\n",
       "      <td>1460.000000</td>\n",
       "      <td>1460.000000</td>\n",
       "      <td>1460.000000</td>\n",
       "      <td>1460.000000</td>\n",
       "      <td>1460.000000</td>\n",
       "      <td>...</td>\n",
       "      <td>1460.000000</td>\n",
       "      <td>1460.000000</td>\n",
       "      <td>1460.000000</td>\n",
       "      <td>1460.000000</td>\n",
       "      <td>1460.000000</td>\n",
       "      <td>1460.000000</td>\n",
       "      <td>1460.000000</td>\n",
       "      <td>1460.000000</td>\n",
       "      <td>1460.000000</td>\n",
       "      <td>1460.000000</td>\n",
       "    </tr>\n",
       "    <tr>\n",
       "      <th>mean</th>\n",
       "      <td>730.500000</td>\n",
       "      <td>56.897260</td>\n",
       "      <td>70.049958</td>\n",
       "      <td>10516.828082</td>\n",
       "      <td>6.099315</td>\n",
       "      <td>5.575342</td>\n",
       "      <td>1971.267808</td>\n",
       "      <td>1984.865753</td>\n",
       "      <td>103.685262</td>\n",
       "      <td>443.639726</td>\n",
       "      <td>...</td>\n",
       "      <td>94.244521</td>\n",
       "      <td>46.660274</td>\n",
       "      <td>21.954110</td>\n",
       "      <td>3.409589</td>\n",
       "      <td>15.060959</td>\n",
       "      <td>2.758904</td>\n",
       "      <td>43.489041</td>\n",
       "      <td>6.321918</td>\n",
       "      <td>2007.815753</td>\n",
       "      <td>180921.195890</td>\n",
       "    </tr>\n",
       "    <tr>\n",
       "      <th>std</th>\n",
       "      <td>421.610009</td>\n",
       "      <td>42.300571</td>\n",
       "      <td>22.024023</td>\n",
       "      <td>9981.264932</td>\n",
       "      <td>1.382997</td>\n",
       "      <td>1.112799</td>\n",
       "      <td>30.202904</td>\n",
       "      <td>20.645407</td>\n",
       "      <td>180.569112</td>\n",
       "      <td>456.098091</td>\n",
       "      <td>...</td>\n",
       "      <td>125.338794</td>\n",
       "      <td>66.256028</td>\n",
       "      <td>61.119149</td>\n",
       "      <td>29.317331</td>\n",
       "      <td>55.757415</td>\n",
       "      <td>40.177307</td>\n",
       "      <td>496.123024</td>\n",
       "      <td>2.703626</td>\n",
       "      <td>1.328095</td>\n",
       "      <td>79442.502883</td>\n",
       "    </tr>\n",
       "    <tr>\n",
       "      <th>min</th>\n",
       "      <td>1.000000</td>\n",
       "      <td>20.000000</td>\n",
       "      <td>21.000000</td>\n",
       "      <td>1300.000000</td>\n",
       "      <td>1.000000</td>\n",
       "      <td>1.000000</td>\n",
       "      <td>1872.000000</td>\n",
       "      <td>1950.000000</td>\n",
       "      <td>0.000000</td>\n",
       "      <td>0.000000</td>\n",
       "      <td>...</td>\n",
       "      <td>0.000000</td>\n",
       "      <td>0.000000</td>\n",
       "      <td>0.000000</td>\n",
       "      <td>0.000000</td>\n",
       "      <td>0.000000</td>\n",
       "      <td>0.000000</td>\n",
       "      <td>0.000000</td>\n",
       "      <td>1.000000</td>\n",
       "      <td>2006.000000</td>\n",
       "      <td>34900.000000</td>\n",
       "    </tr>\n",
       "    <tr>\n",
       "      <th>25%</th>\n",
       "      <td>365.750000</td>\n",
       "      <td>20.000000</td>\n",
       "      <td>60.000000</td>\n",
       "      <td>7553.500000</td>\n",
       "      <td>5.000000</td>\n",
       "      <td>5.000000</td>\n",
       "      <td>1954.000000</td>\n",
       "      <td>1967.000000</td>\n",
       "      <td>0.000000</td>\n",
       "      <td>0.000000</td>\n",
       "      <td>...</td>\n",
       "      <td>0.000000</td>\n",
       "      <td>0.000000</td>\n",
       "      <td>0.000000</td>\n",
       "      <td>0.000000</td>\n",
       "      <td>0.000000</td>\n",
       "      <td>0.000000</td>\n",
       "      <td>0.000000</td>\n",
       "      <td>5.000000</td>\n",
       "      <td>2007.000000</td>\n",
       "      <td>129975.000000</td>\n",
       "    </tr>\n",
       "    <tr>\n",
       "      <th>50%</th>\n",
       "      <td>730.500000</td>\n",
       "      <td>50.000000</td>\n",
       "      <td>70.049958</td>\n",
       "      <td>9478.500000</td>\n",
       "      <td>6.000000</td>\n",
       "      <td>5.000000</td>\n",
       "      <td>1973.000000</td>\n",
       "      <td>1994.000000</td>\n",
       "      <td>0.000000</td>\n",
       "      <td>383.500000</td>\n",
       "      <td>...</td>\n",
       "      <td>0.000000</td>\n",
       "      <td>25.000000</td>\n",
       "      <td>0.000000</td>\n",
       "      <td>0.000000</td>\n",
       "      <td>0.000000</td>\n",
       "      <td>0.000000</td>\n",
       "      <td>0.000000</td>\n",
       "      <td>6.000000</td>\n",
       "      <td>2008.000000</td>\n",
       "      <td>163000.000000</td>\n",
       "    </tr>\n",
       "    <tr>\n",
       "      <th>75%</th>\n",
       "      <td>1095.250000</td>\n",
       "      <td>70.000000</td>\n",
       "      <td>79.000000</td>\n",
       "      <td>11601.500000</td>\n",
       "      <td>7.000000</td>\n",
       "      <td>6.000000</td>\n",
       "      <td>2000.000000</td>\n",
       "      <td>2004.000000</td>\n",
       "      <td>164.250000</td>\n",
       "      <td>712.250000</td>\n",
       "      <td>...</td>\n",
       "      <td>168.000000</td>\n",
       "      <td>68.000000</td>\n",
       "      <td>0.000000</td>\n",
       "      <td>0.000000</td>\n",
       "      <td>0.000000</td>\n",
       "      <td>0.000000</td>\n",
       "      <td>0.000000</td>\n",
       "      <td>8.000000</td>\n",
       "      <td>2009.000000</td>\n",
       "      <td>214000.000000</td>\n",
       "    </tr>\n",
       "    <tr>\n",
       "      <th>max</th>\n",
       "      <td>1460.000000</td>\n",
       "      <td>190.000000</td>\n",
       "      <td>313.000000</td>\n",
       "      <td>215245.000000</td>\n",
       "      <td>10.000000</td>\n",
       "      <td>9.000000</td>\n",
       "      <td>2010.000000</td>\n",
       "      <td>2010.000000</td>\n",
       "      <td>1600.000000</td>\n",
       "      <td>5644.000000</td>\n",
       "      <td>...</td>\n",
       "      <td>857.000000</td>\n",
       "      <td>547.000000</td>\n",
       "      <td>552.000000</td>\n",
       "      <td>508.000000</td>\n",
       "      <td>480.000000</td>\n",
       "      <td>738.000000</td>\n",
       "      <td>15500.000000</td>\n",
       "      <td>12.000000</td>\n",
       "      <td>2010.000000</td>\n",
       "      <td>755000.000000</td>\n",
       "    </tr>\n",
       "  </tbody>\n",
       "</table>\n",
       "<p>8 rows × 38 columns</p>\n",
       "</div>"
      ],
      "text/plain": [
       "                Id   MSSubClass  LotFrontage        LotArea  OverallQual  \\\n",
       "count  1460.000000  1460.000000  1460.000000    1460.000000  1460.000000   \n",
       "mean    730.500000    56.897260    70.049958   10516.828082     6.099315   \n",
       "std     421.610009    42.300571    22.024023    9981.264932     1.382997   \n",
       "min       1.000000    20.000000    21.000000    1300.000000     1.000000   \n",
       "25%     365.750000    20.000000    60.000000    7553.500000     5.000000   \n",
       "50%     730.500000    50.000000    70.049958    9478.500000     6.000000   \n",
       "75%    1095.250000    70.000000    79.000000   11601.500000     7.000000   \n",
       "max    1460.000000   190.000000   313.000000  215245.000000    10.000000   \n",
       "\n",
       "       OverallCond    YearBuilt  YearRemodAdd   MasVnrArea   BsmtFinSF1  ...  \\\n",
       "count  1460.000000  1460.000000   1460.000000  1460.000000  1460.000000  ...   \n",
       "mean      5.575342  1971.267808   1984.865753   103.685262   443.639726  ...   \n",
       "std       1.112799    30.202904     20.645407   180.569112   456.098091  ...   \n",
       "min       1.000000  1872.000000   1950.000000     0.000000     0.000000  ...   \n",
       "25%       5.000000  1954.000000   1967.000000     0.000000     0.000000  ...   \n",
       "50%       5.000000  1973.000000   1994.000000     0.000000   383.500000  ...   \n",
       "75%       6.000000  2000.000000   2004.000000   164.250000   712.250000  ...   \n",
       "max       9.000000  2010.000000   2010.000000  1600.000000  5644.000000  ...   \n",
       "\n",
       "        WoodDeckSF  OpenPorchSF  EnclosedPorch    3SsnPorch  ScreenPorch  \\\n",
       "count  1460.000000  1460.000000    1460.000000  1460.000000  1460.000000   \n",
       "mean     94.244521    46.660274      21.954110     3.409589    15.060959   \n",
       "std     125.338794    66.256028      61.119149    29.317331    55.757415   \n",
       "min       0.000000     0.000000       0.000000     0.000000     0.000000   \n",
       "25%       0.000000     0.000000       0.000000     0.000000     0.000000   \n",
       "50%       0.000000    25.000000       0.000000     0.000000     0.000000   \n",
       "75%     168.000000    68.000000       0.000000     0.000000     0.000000   \n",
       "max     857.000000   547.000000     552.000000   508.000000   480.000000   \n",
       "\n",
       "          PoolArea       MiscVal       MoSold       YrSold      SalePrice  \n",
       "count  1460.000000   1460.000000  1460.000000  1460.000000    1460.000000  \n",
       "mean      2.758904     43.489041     6.321918  2007.815753  180921.195890  \n",
       "std      40.177307    496.123024     2.703626     1.328095   79442.502883  \n",
       "min       0.000000      0.000000     1.000000  2006.000000   34900.000000  \n",
       "25%       0.000000      0.000000     5.000000  2007.000000  129975.000000  \n",
       "50%       0.000000      0.000000     6.000000  2008.000000  163000.000000  \n",
       "75%       0.000000      0.000000     8.000000  2009.000000  214000.000000  \n",
       "max     738.000000  15500.000000    12.000000  2010.000000  755000.000000  \n",
       "\n",
       "[8 rows x 38 columns]"
      ]
     },
     "execution_count": 12,
     "metadata": {},
     "output_type": "execute_result"
    }
   ],
   "source": [
    "df_tr.describe()"
   ]
  },
  {
   "cell_type": "code",
   "execution_count": 13,
   "id": "344fe28a",
   "metadata": {
    "execution": {
     "iopub.execute_input": "2023-01-28T20:40:05.138155Z",
     "iopub.status.busy": "2023-01-28T20:40:05.137744Z",
     "iopub.status.idle": "2023-01-28T20:40:05.159338Z",
     "shell.execute_reply": "2023-01-28T20:40:05.157909Z"
    },
    "papermill": {
     "duration": 0.035816,
     "end_time": "2023-01-28T20:40:05.161821",
     "exception": false,
     "start_time": "2023-01-28T20:40:05.126005",
     "status": "completed"
    },
    "tags": []
   },
   "outputs": [
    {
     "name": "stdout",
     "output_type": "stream",
     "text": [
      "<class 'pandas.core.frame.DataFrame'>\n",
      "RangeIndex: 1460 entries, 0 to 1459\n",
      "Data columns (total 38 columns):\n",
      " #   Column         Non-Null Count  Dtype  \n",
      "---  ------         --------------  -----  \n",
      " 0   Id             1460 non-null   int64  \n",
      " 1   MSSubClass     1460 non-null   int64  \n",
      " 2   LotFrontage    1460 non-null   float64\n",
      " 3   LotArea        1460 non-null   int64  \n",
      " 4   OverallQual    1460 non-null   int64  \n",
      " 5   OverallCond    1460 non-null   int64  \n",
      " 6   YearBuilt      1460 non-null   int64  \n",
      " 7   YearRemodAdd   1460 non-null   int64  \n",
      " 8   MasVnrArea     1460 non-null   float64\n",
      " 9   BsmtFinSF1     1460 non-null   int64  \n",
      " 10  BsmtFinSF2     1460 non-null   int64  \n",
      " 11  BsmtUnfSF      1460 non-null   int64  \n",
      " 12  TotalBsmtSF    1460 non-null   int64  \n",
      " 13  1stFlrSF       1460 non-null   int64  \n",
      " 14  2ndFlrSF       1460 non-null   int64  \n",
      " 15  LowQualFinSF   1460 non-null   int64  \n",
      " 16  GrLivArea      1460 non-null   int64  \n",
      " 17  BsmtFullBath   1460 non-null   int64  \n",
      " 18  BsmtHalfBath   1460 non-null   int64  \n",
      " 19  FullBath       1460 non-null   int64  \n",
      " 20  HalfBath       1460 non-null   int64  \n",
      " 21  BedroomAbvGr   1460 non-null   int64  \n",
      " 22  KitchenAbvGr   1460 non-null   int64  \n",
      " 23  TotRmsAbvGrd   1460 non-null   int64  \n",
      " 24  Fireplaces     1460 non-null   int64  \n",
      " 25  GarageYrBlt    1460 non-null   float64\n",
      " 26  GarageCars     1460 non-null   int64  \n",
      " 27  GarageArea     1460 non-null   int64  \n",
      " 28  WoodDeckSF     1460 non-null   int64  \n",
      " 29  OpenPorchSF    1460 non-null   int64  \n",
      " 30  EnclosedPorch  1460 non-null   int64  \n",
      " 31  3SsnPorch      1460 non-null   int64  \n",
      " 32  ScreenPorch    1460 non-null   int64  \n",
      " 33  PoolArea       1460 non-null   int64  \n",
      " 34  MiscVal        1460 non-null   int64  \n",
      " 35  MoSold         1460 non-null   int64  \n",
      " 36  YrSold         1460 non-null   int64  \n",
      " 37  SalePrice      1460 non-null   int64  \n",
      "dtypes: float64(3), int64(35)\n",
      "memory usage: 433.6 KB\n"
     ]
    }
   ],
   "source": [
    "list_int_float = [j for j in df_tr.columns if (df_tr[j].dtype=='float64') or \n",
    "                  (df_tr[j].dtype=='int64')]\n",
    "\n",
    "df_tr[list_int_float].info()"
   ]
  },
  {
   "cell_type": "markdown",
   "id": "a49d00b8",
   "metadata": {
    "papermill": {
     "duration": 0.010373,
     "end_time": "2023-01-28T20:40:05.183274",
     "exception": false,
     "start_time": "2023-01-28T20:40:05.172901",
     "status": "completed"
    },
    "tags": []
   },
   "source": [
    "Finding correlation of integer and float type columns in training dataset."
   ]
  },
  {
   "cell_type": "code",
   "execution_count": 14,
   "id": "7b280f0b",
   "metadata": {
    "execution": {
     "iopub.execute_input": "2023-01-28T20:40:05.206485Z",
     "iopub.status.busy": "2023-01-28T20:40:05.206078Z",
     "iopub.status.idle": "2023-01-28T20:40:05.221775Z",
     "shell.execute_reply": "2023-01-28T20:40:05.220381Z"
    },
    "papermill": {
     "duration": 0.030129,
     "end_time": "2023-01-28T20:40:05.224136",
     "exception": false,
     "start_time": "2023-01-28T20:40:05.194007",
     "status": "completed"
    },
    "tags": []
   },
   "outputs": [
    {
     "name": "stdout",
     "output_type": "stream",
     "text": [
      "{'Id': -0.021916719443430967, 'MSSubClass': -0.08428413512659509, 'LotFrontage': 0.3349008515405512, 'LotArea': 0.2638433538714051, 'OverallQual': 0.7909816005838053, 'OverallCond': -0.07785589404867797, 'YearBuilt': 0.5228973328794967, 'YearRemodAdd': 0.5071009671113866, 'MasVnrArea': 0.475241316773666, 'BsmtFinSF1': 0.3864198062421535, 'BsmtFinSF2': -0.011378121450215146, 'BsmtUnfSF': 0.21447910554696928, 'TotalBsmtSF': 0.6135805515591943, '1stFlrSF': 0.6058521846919153, '2ndFlrSF': 0.31933380283206736, 'LowQualFinSF': -0.02560613000067955, 'GrLivArea': 0.7086244776126515, 'BsmtFullBath': 0.22712223313149427, 'BsmtHalfBath': -0.01684415429735895, 'FullBath': 0.5606637627484453, 'HalfBath': 0.28410767559478256, 'BedroomAbvGr': 0.16821315430073963, 'KitchenAbvGr': -0.13590737084214105, 'TotRmsAbvGrd': 0.5337231555820284, 'Fireplaces': 0.46692883675152763, 'GarageYrBlt': 0.47017745374048125, 'GarageCars': 0.6404091972583519, 'GarageArea': 0.6234314389183622, 'WoodDeckSF': 0.32441344456812926, 'OpenPorchSF': 0.31585622711605504, 'EnclosedPorch': -0.1285779579259566, '3SsnPorch': 0.04458366533574838, 'ScreenPorch': 0.11144657114291112, 'PoolArea': 0.09240354949187318, 'MiscVal': -0.021189579640303213, 'MoSold': 0.046432245223819446, 'YrSold': -0.028922585168736813, 'SalePrice': 1.0}\n"
     ]
    }
   ],
   "source": [
    "dict_corr = df_tr[list_int_float].corr()['SalePrice'].to_dict()\n",
    "print(dict_corr)"
   ]
  },
  {
   "cell_type": "code",
   "execution_count": 15,
   "id": "22eca835",
   "metadata": {
    "execution": {
     "iopub.execute_input": "2023-01-28T20:40:05.247223Z",
     "iopub.status.busy": "2023-01-28T20:40:05.246773Z",
     "iopub.status.idle": "2023-01-28T20:40:05.254425Z",
     "shell.execute_reply": "2023-01-28T20:40:05.253316Z"
    },
    "papermill": {
     "duration": 0.02271,
     "end_time": "2023-01-28T20:40:05.257472",
     "exception": false,
     "start_time": "2023-01-28T20:40:05.234762",
     "status": "completed"
    },
    "tags": []
   },
   "outputs": [
    {
     "name": "stdout",
     "output_type": "stream",
     "text": [
      "{'OverallQual': 0.7909816005838053, 'YearBuilt': 0.5228973328794967, 'YearRemodAdd': 0.5071009671113866, 'TotalBsmtSF': 0.6135805515591943, '1stFlrSF': 0.6058521846919153, 'GrLivArea': 0.7086244776126515, 'FullBath': 0.5606637627484453, 'TotRmsAbvGrd': 0.5337231555820284, 'GarageCars': 0.6404091972583519, 'GarageArea': 0.6234314389183622, 'SalePrice': 1.0}\n",
      "-------------------------------------------------\n",
      "\n",
      "Printing below all Keys from above dictionary:\n",
      "\n",
      "['OverallQual', 'YearBuilt', 'YearRemodAdd', 'TotalBsmtSF', '1stFlrSF', 'GrLivArea', 'FullBath', 'TotRmsAbvGrd', 'GarageCars', 'GarageArea', 'SalePrice']\n"
     ]
    }
   ],
   "source": [
    "dict_corr_ = {}\n",
    "for k in dict_corr.items():\n",
    "    if np.abs(k[1])>=0.5:\n",
    "        dict_corr_[k[0]] = k[1]\n",
    "\n",
    "print(dict_corr_)\n",
    "print(\"-------------------------------------------------\\n\")\n",
    "list_corr = [k[0] for k in dict_corr_.items()]\n",
    "print(\"Printing below all Keys from above dictionary:\\n\")\n",
    "print(list_corr)"
   ]
  },
  {
   "cell_type": "markdown",
   "id": "161b8cde",
   "metadata": {
    "papermill": {
     "duration": 0.010502,
     "end_time": "2023-01-28T20:40:05.279888",
     "exception": false,
     "start_time": "2023-01-28T20:40:05.269386",
     "status": "completed"
    },
    "tags": []
   },
   "source": [
    "We had filtered out columns based on correlation with output variable \"SalePrice\". These columns were integer or float datatypes. We will now evaluate what all columns to keep removing columns with low correlation with output variable."
   ]
  },
  {
   "cell_type": "code",
   "execution_count": 16,
   "id": "a9e31a89",
   "metadata": {
    "execution": {
     "iopub.execute_input": "2023-01-28T20:40:05.303396Z",
     "iopub.status.busy": "2023-01-28T20:40:05.302683Z",
     "iopub.status.idle": "2023-01-28T20:40:05.309743Z",
     "shell.execute_reply": "2023-01-28T20:40:05.308434Z"
    },
    "papermill": {
     "duration": 0.021179,
     "end_time": "2023-01-28T20:40:05.311823",
     "exception": false,
     "start_time": "2023-01-28T20:40:05.290644",
     "status": "completed"
    },
    "tags": []
   },
   "outputs": [
    {
     "name": "stdout",
     "output_type": "stream",
     "text": [
      "['Condition1', 'GarageQual', 'RoofStyle', 'BsmtQual', 'ExterCond', 'GrLivArea', 'BldgType', 'BsmtExposure', 'HouseStyle', 'PavedDrive', 'BsmtFinType2', 'GarageFinish', 'CentralAir', 'SaleType', 'MasVnrType', 'Exterior1st', 'OverallQual', 'SalePrice', 'GarageCars', 'Heating', 'LandContour', 'Alley', 'FullBath', 'BsmtCond', 'SaleCondition', 'Utilities', 'Foundation', 'LotConfig', 'FireplaceQu', 'GarageCond', 'HeatingQC', 'ExterQual', 'RoofMatl', 'Functional', '1stFlrSF', 'Exterior2nd', 'TotRmsAbvGrd', 'PoolQC', 'GarageType', 'Street', 'LotShape', 'YearRemodAdd', 'YearBuilt', 'KitchenQual', 'MSZoning', 'Fence', 'TotalBsmtSF', 'Electrical', 'Neighborhood', 'GarageArea', 'BsmtFinType1', 'MiscFeature', 'Condition2', 'LandSlope']\n"
     ]
    }
   ],
   "source": [
    "list_drop = list(set(list_int_float) - set(list_corr))\n",
    "list_col_keep = list(set(list(df_tr.columns)) - set(list_drop))\n",
    "print(list_col_keep)"
   ]
  },
  {
   "cell_type": "code",
   "execution_count": 17,
   "id": "3e38be1f",
   "metadata": {
    "execution": {
     "iopub.execute_input": "2023-01-28T20:40:05.335447Z",
     "iopub.status.busy": "2023-01-28T20:40:05.334521Z",
     "iopub.status.idle": "2023-01-28T20:40:05.341299Z",
     "shell.execute_reply": "2023-01-28T20:40:05.340303Z"
    },
    "papermill": {
     "duration": 0.02093,
     "end_time": "2023-01-28T20:40:05.343499",
     "exception": false,
     "start_time": "2023-01-28T20:40:05.322569",
     "status": "completed"
    },
    "tags": []
   },
   "outputs": [],
   "source": [
    "df_tr_ = df_tr[list_col_keep]"
   ]
  },
  {
   "cell_type": "markdown",
   "id": "deca337a",
   "metadata": {
    "papermill": {
     "duration": 0.010614,
     "end_time": "2023-01-28T20:40:05.364904",
     "exception": false,
     "start_time": "2023-01-28T20:40:05.354290",
     "status": "completed"
    },
    "tags": []
   },
   "source": [
    "Ordering test dataset similar to training dataset..."
   ]
  },
  {
   "cell_type": "code",
   "execution_count": 18,
   "id": "63cda02b",
   "metadata": {
    "execution": {
     "iopub.execute_input": "2023-01-28T20:40:05.388580Z",
     "iopub.status.busy": "2023-01-28T20:40:05.388212Z",
     "iopub.status.idle": "2023-01-28T20:40:05.395038Z",
     "shell.execute_reply": "2023-01-28T20:40:05.394010Z"
    },
    "papermill": {
     "duration": 0.021448,
     "end_time": "2023-01-28T20:40:05.397352",
     "exception": false,
     "start_time": "2023-01-28T20:40:05.375904",
     "status": "completed"
    },
    "tags": []
   },
   "outputs": [],
   "source": [
    "list_ = [j for j in list_col_keep if j!='SalePrice']\n",
    "list_.insert(0, 'Id')\n",
    "df_test_ = df_test[list_]"
   ]
  },
  {
   "cell_type": "markdown",
   "id": "6bb78104",
   "metadata": {
    "papermill": {
     "duration": 0.010399,
     "end_time": "2023-01-28T20:40:05.418508",
     "exception": false,
     "start_time": "2023-01-28T20:40:05.408109",
     "status": "completed"
    },
    "tags": []
   },
   "source": [
    "Making list of category columns in training dataset..."
   ]
  },
  {
   "cell_type": "code",
   "execution_count": 19,
   "id": "62c4d814",
   "metadata": {
    "execution": {
     "iopub.execute_input": "2023-01-28T20:40:05.441699Z",
     "iopub.status.busy": "2023-01-28T20:40:05.441320Z",
     "iopub.status.idle": "2023-01-28T20:40:05.449395Z",
     "shell.execute_reply": "2023-01-28T20:40:05.448265Z"
    },
    "papermill": {
     "duration": 0.023029,
     "end_time": "2023-01-28T20:40:05.452246",
     "exception": false,
     "start_time": "2023-01-28T20:40:05.429217",
     "status": "completed"
    },
    "tags": []
   },
   "outputs": [
    {
     "name": "stdout",
     "output_type": "stream",
     "text": [
      "['Condition1', 'GarageQual', 'RoofStyle', 'BsmtQual', 'ExterCond', 'BldgType', 'BsmtExposure', 'HouseStyle', 'PavedDrive', 'BsmtFinType2', 'GarageFinish', 'CentralAir', 'SaleType', 'MasVnrType', 'Exterior1st', 'Heating', 'LandContour', 'Alley', 'BsmtCond', 'SaleCondition', 'Utilities', 'Foundation', 'LotConfig', 'FireplaceQu', 'GarageCond', 'HeatingQC', 'ExterQual', 'RoofMatl', 'Functional', 'Exterior2nd', 'PoolQC', 'GarageType', 'Street', 'LotShape', 'KitchenQual', 'MSZoning', 'Fence', 'Electrical', 'Neighborhood', 'BsmtFinType1', 'MiscFeature', 'Condition2', 'LandSlope']\n"
     ]
    }
   ],
   "source": [
    "cat_col = [k for k in list_col_keep if df_tr_[k].dtype==\"object\"]\n",
    "print(cat_col)"
   ]
  },
  {
   "cell_type": "code",
   "execution_count": 20,
   "id": "6fe4ae64",
   "metadata": {
    "execution": {
     "iopub.execute_input": "2023-01-28T20:40:05.476329Z",
     "iopub.status.busy": "2023-01-28T20:40:05.475919Z",
     "iopub.status.idle": "2023-01-28T20:40:05.483627Z",
     "shell.execute_reply": "2023-01-28T20:40:05.482071Z"
    },
    "papermill": {
     "duration": 0.022952,
     "end_time": "2023-01-28T20:40:05.486026",
     "exception": false,
     "start_time": "2023-01-28T20:40:05.463074",
     "status": "completed"
    },
    "tags": []
   },
   "outputs": [],
   "source": [
    "cat_col_ordinal = ['LandContour', 'Condition2', 'HeatingQC', 'MSZoning', 'Neighborhood', \n",
    "                   'RoofMatl', 'Utilities', 'MasVnrType', 'KitchenQual', 'Exterior2nd', \n",
    "                    'BsmtCond', 'Exterior1st', 'HouseStyle', \n",
    "                   'Electrical', 'Fence', 'GarageQual', 'Alley', 'FireplaceQu', 'Foundation', \n",
    "                   'MiscFeature', 'RoofStyle', 'GarageFinish','LotShape', \n",
    "                   'GarageType', 'SaleCondition', 'BsmtFinType1', 'PavedDrive', 'Heating', \n",
    "                   'LandSlope', 'ExterQual', 'ExterCond', 'PoolQC', 'Condition1', \n",
    "                   'BsmtExposure', 'GarageCond', 'LotConfig', 'Functional', \n",
    "                   'BsmtFinType2', 'BsmtQual']\n",
    "\n",
    "cat_col_label = ['Street' ,'BldgType', 'SaleType', 'CentralAir']"
   ]
  },
  {
   "cell_type": "code",
   "execution_count": 21,
   "id": "afb7dbd9",
   "metadata": {
    "execution": {
     "iopub.execute_input": "2023-01-28T20:40:05.509891Z",
     "iopub.status.busy": "2023-01-28T20:40:05.509091Z",
     "iopub.status.idle": "2023-01-28T20:40:06.704098Z",
     "shell.execute_reply": "2023-01-28T20:40:06.702627Z"
    },
    "papermill": {
     "duration": 1.209617,
     "end_time": "2023-01-28T20:40:06.706649",
     "exception": false,
     "start_time": "2023-01-28T20:40:05.497032",
     "status": "completed"
    },
    "tags": []
   },
   "outputs": [
    {
     "name": "stdout",
     "output_type": "stream",
     "text": [
      "Ordinal Encoding starting for column LandContour\n",
      "Ordinal Encoding done for column LandContour\n",
      "---------------------------------------\n",
      "Ordinal Encoding starting for column Condition2\n",
      "Ordinal Encoding done for column Condition2\n",
      "---------------------------------------\n",
      "Ordinal Encoding starting for column HeatingQC\n",
      "Ordinal Encoding done for column HeatingQC\n",
      "---------------------------------------\n",
      "Ordinal Encoding starting for column MSZoning\n",
      "Ordinal Encoding done for column MSZoning\n",
      "---------------------------------------\n",
      "Ordinal Encoding starting for column Neighborhood\n",
      "Ordinal Encoding done for column Neighborhood\n",
      "---------------------------------------\n",
      "Ordinal Encoding starting for column RoofMatl\n",
      "Ordinal Encoding done for column RoofMatl\n",
      "---------------------------------------\n",
      "Ordinal Encoding starting for column Utilities\n",
      "Ordinal Encoding done for column Utilities\n",
      "---------------------------------------\n",
      "Ordinal Encoding starting for column MasVnrType\n",
      "Ordinal Encoding done for column MasVnrType\n",
      "---------------------------------------\n",
      "Ordinal Encoding starting for column KitchenQual\n",
      "Ordinal Encoding done for column KitchenQual\n",
      "---------------------------------------\n",
      "Ordinal Encoding starting for column Exterior2nd\n",
      "Ordinal Encoding done for column Exterior2nd\n",
      "---------------------------------------\n",
      "Ordinal Encoding starting for column BsmtCond\n",
      "Ordinal Encoding done for column BsmtCond\n",
      "---------------------------------------\n",
      "Ordinal Encoding starting for column Exterior1st\n",
      "Ordinal Encoding done for column Exterior1st\n",
      "---------------------------------------\n",
      "Ordinal Encoding starting for column HouseStyle\n",
      "Ordinal Encoding done for column HouseStyle\n",
      "---------------------------------------\n",
      "Ordinal Encoding starting for column Electrical\n",
      "Ordinal Encoding done for column Electrical\n",
      "---------------------------------------\n",
      "Ordinal Encoding starting for column Fence\n",
      "Ordinal Encoding done for column Fence\n",
      "---------------------------------------\n",
      "Ordinal Encoding starting for column GarageQual\n",
      "Ordinal Encoding done for column GarageQual\n",
      "---------------------------------------\n",
      "Ordinal Encoding starting for column Alley\n",
      "Ordinal Encoding done for column Alley\n",
      "---------------------------------------\n",
      "Ordinal Encoding starting for column FireplaceQu\n",
      "Ordinal Encoding done for column FireplaceQu\n",
      "---------------------------------------\n",
      "Ordinal Encoding starting for column Foundation\n",
      "Ordinal Encoding done for column Foundation\n",
      "---------------------------------------\n",
      "Ordinal Encoding starting for column MiscFeature\n",
      "Ordinal Encoding done for column MiscFeature\n",
      "---------------------------------------\n",
      "Ordinal Encoding starting for column RoofStyle\n",
      "Ordinal Encoding done for column RoofStyle\n",
      "---------------------------------------\n",
      "Ordinal Encoding starting for column GarageFinish\n",
      "Ordinal Encoding done for column GarageFinish\n",
      "---------------------------------------\n",
      "Ordinal Encoding starting for column LotShape\n",
      "Ordinal Encoding done for column LotShape\n",
      "---------------------------------------\n",
      "Ordinal Encoding starting for column GarageType\n",
      "Ordinal Encoding done for column GarageType\n",
      "---------------------------------------\n",
      "Ordinal Encoding starting for column SaleCondition\n",
      "Ordinal Encoding done for column SaleCondition\n",
      "---------------------------------------\n",
      "Ordinal Encoding starting for column BsmtFinType1\n",
      "Ordinal Encoding done for column BsmtFinType1\n",
      "---------------------------------------\n",
      "Ordinal Encoding starting for column PavedDrive\n",
      "Ordinal Encoding done for column PavedDrive\n",
      "---------------------------------------\n",
      "Ordinal Encoding starting for column Heating\n",
      "Ordinal Encoding done for column Heating\n",
      "---------------------------------------\n",
      "Ordinal Encoding starting for column LandSlope\n",
      "Ordinal Encoding done for column LandSlope\n",
      "---------------------------------------\n",
      "Ordinal Encoding starting for column ExterQual\n",
      "Ordinal Encoding done for column ExterQual\n",
      "---------------------------------------\n",
      "Ordinal Encoding starting for column ExterCond\n",
      "Ordinal Encoding done for column ExterCond\n",
      "---------------------------------------\n",
      "Ordinal Encoding starting for column PoolQC\n",
      "Ordinal Encoding done for column PoolQC\n",
      "---------------------------------------\n",
      "Ordinal Encoding starting for column Condition1\n",
      "Ordinal Encoding done for column Condition1\n",
      "---------------------------------------\n",
      "Ordinal Encoding starting for column BsmtExposure\n"
     ]
    },
    {
     "name": "stderr",
     "output_type": "stream",
     "text": [
      "/opt/conda/lib/python3.7/site-packages/pandas/core/indexing.py:1835: SettingWithCopyWarning: \n",
      "A value is trying to be set on a copy of a slice from a DataFrame.\n",
      "Try using .loc[row_indexer,col_indexer] = value instead\n",
      "\n",
      "See the caveats in the documentation: https://pandas.pydata.org/pandas-docs/stable/user_guide/indexing.html#returning-a-view-versus-a-copy\n",
      "  self._setitem_single_column(loc, value[:, i].tolist(), pi)\n",
      "/opt/conda/lib/python3.7/site-packages/pandas/core/indexing.py:1835: SettingWithCopyWarning: \n",
      "A value is trying to be set on a copy of a slice from a DataFrame.\n",
      "Try using .loc[row_indexer,col_indexer] = value instead\n",
      "\n",
      "See the caveats in the documentation: https://pandas.pydata.org/pandas-docs/stable/user_guide/indexing.html#returning-a-view-versus-a-copy\n",
      "  self._setitem_single_column(loc, value[:, i].tolist(), pi)\n",
      "/opt/conda/lib/python3.7/site-packages/pandas/core/indexing.py:1835: SettingWithCopyWarning: \n",
      "A value is trying to be set on a copy of a slice from a DataFrame.\n",
      "Try using .loc[row_indexer,col_indexer] = value instead\n",
      "\n",
      "See the caveats in the documentation: https://pandas.pydata.org/pandas-docs/stable/user_guide/indexing.html#returning-a-view-versus-a-copy\n",
      "  self._setitem_single_column(loc, value[:, i].tolist(), pi)\n",
      "/opt/conda/lib/python3.7/site-packages/pandas/core/indexing.py:1835: SettingWithCopyWarning: \n",
      "A value is trying to be set on a copy of a slice from a DataFrame.\n",
      "Try using .loc[row_indexer,col_indexer] = value instead\n",
      "\n",
      "See the caveats in the documentation: https://pandas.pydata.org/pandas-docs/stable/user_guide/indexing.html#returning-a-view-versus-a-copy\n",
      "  self._setitem_single_column(loc, value[:, i].tolist(), pi)\n",
      "/opt/conda/lib/python3.7/site-packages/pandas/core/indexing.py:1835: SettingWithCopyWarning: \n",
      "A value is trying to be set on a copy of a slice from a DataFrame.\n",
      "Try using .loc[row_indexer,col_indexer] = value instead\n",
      "\n",
      "See the caveats in the documentation: https://pandas.pydata.org/pandas-docs/stable/user_guide/indexing.html#returning-a-view-versus-a-copy\n",
      "  self._setitem_single_column(loc, value[:, i].tolist(), pi)\n",
      "/opt/conda/lib/python3.7/site-packages/pandas/core/indexing.py:1835: SettingWithCopyWarning: \n",
      "A value is trying to be set on a copy of a slice from a DataFrame.\n",
      "Try using .loc[row_indexer,col_indexer] = value instead\n",
      "\n",
      "See the caveats in the documentation: https://pandas.pydata.org/pandas-docs/stable/user_guide/indexing.html#returning-a-view-versus-a-copy\n",
      "  self._setitem_single_column(loc, value[:, i].tolist(), pi)\n",
      "/opt/conda/lib/python3.7/site-packages/pandas/core/indexing.py:1835: SettingWithCopyWarning: \n",
      "A value is trying to be set on a copy of a slice from a DataFrame.\n",
      "Try using .loc[row_indexer,col_indexer] = value instead\n",
      "\n",
      "See the caveats in the documentation: https://pandas.pydata.org/pandas-docs/stable/user_guide/indexing.html#returning-a-view-versus-a-copy\n",
      "  self._setitem_single_column(loc, value[:, i].tolist(), pi)\n",
      "/opt/conda/lib/python3.7/site-packages/pandas/core/indexing.py:1835: SettingWithCopyWarning: \n",
      "A value is trying to be set on a copy of a slice from a DataFrame.\n",
      "Try using .loc[row_indexer,col_indexer] = value instead\n",
      "\n",
      "See the caveats in the documentation: https://pandas.pydata.org/pandas-docs/stable/user_guide/indexing.html#returning-a-view-versus-a-copy\n",
      "  self._setitem_single_column(loc, value[:, i].tolist(), pi)\n",
      "/opt/conda/lib/python3.7/site-packages/pandas/core/indexing.py:1835: SettingWithCopyWarning: \n",
      "A value is trying to be set on a copy of a slice from a DataFrame.\n",
      "Try using .loc[row_indexer,col_indexer] = value instead\n",
      "\n",
      "See the caveats in the documentation: https://pandas.pydata.org/pandas-docs/stable/user_guide/indexing.html#returning-a-view-versus-a-copy\n",
      "  self._setitem_single_column(loc, value[:, i].tolist(), pi)\n",
      "/opt/conda/lib/python3.7/site-packages/pandas/core/indexing.py:1835: SettingWithCopyWarning: \n",
      "A value is trying to be set on a copy of a slice from a DataFrame.\n",
      "Try using .loc[row_indexer,col_indexer] = value instead\n",
      "\n",
      "See the caveats in the documentation: https://pandas.pydata.org/pandas-docs/stable/user_guide/indexing.html#returning-a-view-versus-a-copy\n",
      "  self._setitem_single_column(loc, value[:, i].tolist(), pi)\n",
      "/opt/conda/lib/python3.7/site-packages/pandas/core/indexing.py:1835: SettingWithCopyWarning: \n",
      "A value is trying to be set on a copy of a slice from a DataFrame.\n",
      "Try using .loc[row_indexer,col_indexer] = value instead\n",
      "\n",
      "See the caveats in the documentation: https://pandas.pydata.org/pandas-docs/stable/user_guide/indexing.html#returning-a-view-versus-a-copy\n",
      "  self._setitem_single_column(loc, value[:, i].tolist(), pi)\n",
      "/opt/conda/lib/python3.7/site-packages/pandas/core/indexing.py:1835: SettingWithCopyWarning: \n",
      "A value is trying to be set on a copy of a slice from a DataFrame.\n",
      "Try using .loc[row_indexer,col_indexer] = value instead\n",
      "\n",
      "See the caveats in the documentation: https://pandas.pydata.org/pandas-docs/stable/user_guide/indexing.html#returning-a-view-versus-a-copy\n",
      "  self._setitem_single_column(loc, value[:, i].tolist(), pi)\n",
      "/opt/conda/lib/python3.7/site-packages/pandas/core/indexing.py:1835: SettingWithCopyWarning: \n",
      "A value is trying to be set on a copy of a slice from a DataFrame.\n",
      "Try using .loc[row_indexer,col_indexer] = value instead\n",
      "\n",
      "See the caveats in the documentation: https://pandas.pydata.org/pandas-docs/stable/user_guide/indexing.html#returning-a-view-versus-a-copy\n",
      "  self._setitem_single_column(loc, value[:, i].tolist(), pi)\n",
      "/opt/conda/lib/python3.7/site-packages/pandas/core/indexing.py:1835: SettingWithCopyWarning: \n",
      "A value is trying to be set on a copy of a slice from a DataFrame.\n",
      "Try using .loc[row_indexer,col_indexer] = value instead\n",
      "\n",
      "See the caveats in the documentation: https://pandas.pydata.org/pandas-docs/stable/user_guide/indexing.html#returning-a-view-versus-a-copy\n",
      "  self._setitem_single_column(loc, value[:, i].tolist(), pi)\n",
      "/opt/conda/lib/python3.7/site-packages/pandas/core/indexing.py:1835: SettingWithCopyWarning: \n",
      "A value is trying to be set on a copy of a slice from a DataFrame.\n",
      "Try using .loc[row_indexer,col_indexer] = value instead\n",
      "\n",
      "See the caveats in the documentation: https://pandas.pydata.org/pandas-docs/stable/user_guide/indexing.html#returning-a-view-versus-a-copy\n",
      "  self._setitem_single_column(loc, value[:, i].tolist(), pi)\n",
      "/opt/conda/lib/python3.7/site-packages/pandas/core/indexing.py:1835: SettingWithCopyWarning: \n",
      "A value is trying to be set on a copy of a slice from a DataFrame.\n",
      "Try using .loc[row_indexer,col_indexer] = value instead\n",
      "\n",
      "See the caveats in the documentation: https://pandas.pydata.org/pandas-docs/stable/user_guide/indexing.html#returning-a-view-versus-a-copy\n",
      "  self._setitem_single_column(loc, value[:, i].tolist(), pi)\n",
      "/opt/conda/lib/python3.7/site-packages/pandas/core/indexing.py:1835: SettingWithCopyWarning: \n",
      "A value is trying to be set on a copy of a slice from a DataFrame.\n",
      "Try using .loc[row_indexer,col_indexer] = value instead\n",
      "\n",
      "See the caveats in the documentation: https://pandas.pydata.org/pandas-docs/stable/user_guide/indexing.html#returning-a-view-versus-a-copy\n",
      "  self._setitem_single_column(loc, value[:, i].tolist(), pi)\n",
      "/opt/conda/lib/python3.7/site-packages/pandas/core/indexing.py:1835: SettingWithCopyWarning: \n",
      "A value is trying to be set on a copy of a slice from a DataFrame.\n",
      "Try using .loc[row_indexer,col_indexer] = value instead\n",
      "\n",
      "See the caveats in the documentation: https://pandas.pydata.org/pandas-docs/stable/user_guide/indexing.html#returning-a-view-versus-a-copy\n",
      "  self._setitem_single_column(loc, value[:, i].tolist(), pi)\n",
      "/opt/conda/lib/python3.7/site-packages/pandas/core/indexing.py:1835: SettingWithCopyWarning: \n",
      "A value is trying to be set on a copy of a slice from a DataFrame.\n",
      "Try using .loc[row_indexer,col_indexer] = value instead\n",
      "\n",
      "See the caveats in the documentation: https://pandas.pydata.org/pandas-docs/stable/user_guide/indexing.html#returning-a-view-versus-a-copy\n",
      "  self._setitem_single_column(loc, value[:, i].tolist(), pi)\n",
      "/opt/conda/lib/python3.7/site-packages/pandas/core/indexing.py:1835: SettingWithCopyWarning: \n",
      "A value is trying to be set on a copy of a slice from a DataFrame.\n",
      "Try using .loc[row_indexer,col_indexer] = value instead\n",
      "\n",
      "See the caveats in the documentation: https://pandas.pydata.org/pandas-docs/stable/user_guide/indexing.html#returning-a-view-versus-a-copy\n",
      "  self._setitem_single_column(loc, value[:, i].tolist(), pi)\n",
      "/opt/conda/lib/python3.7/site-packages/pandas/core/indexing.py:1835: SettingWithCopyWarning: \n",
      "A value is trying to be set on a copy of a slice from a DataFrame.\n",
      "Try using .loc[row_indexer,col_indexer] = value instead\n",
      "\n",
      "See the caveats in the documentation: https://pandas.pydata.org/pandas-docs/stable/user_guide/indexing.html#returning-a-view-versus-a-copy\n",
      "  self._setitem_single_column(loc, value[:, i].tolist(), pi)\n",
      "/opt/conda/lib/python3.7/site-packages/pandas/core/indexing.py:1835: SettingWithCopyWarning: \n",
      "A value is trying to be set on a copy of a slice from a DataFrame.\n",
      "Try using .loc[row_indexer,col_indexer] = value instead\n",
      "\n",
      "See the caveats in the documentation: https://pandas.pydata.org/pandas-docs/stable/user_guide/indexing.html#returning-a-view-versus-a-copy\n",
      "  self._setitem_single_column(loc, value[:, i].tolist(), pi)\n",
      "/opt/conda/lib/python3.7/site-packages/pandas/core/indexing.py:1835: SettingWithCopyWarning: \n",
      "A value is trying to be set on a copy of a slice from a DataFrame.\n",
      "Try using .loc[row_indexer,col_indexer] = value instead\n",
      "\n",
      "See the caveats in the documentation: https://pandas.pydata.org/pandas-docs/stable/user_guide/indexing.html#returning-a-view-versus-a-copy\n",
      "  self._setitem_single_column(loc, value[:, i].tolist(), pi)\n",
      "/opt/conda/lib/python3.7/site-packages/pandas/core/indexing.py:1835: SettingWithCopyWarning: \n",
      "A value is trying to be set on a copy of a slice from a DataFrame.\n",
      "Try using .loc[row_indexer,col_indexer] = value instead\n",
      "\n",
      "See the caveats in the documentation: https://pandas.pydata.org/pandas-docs/stable/user_guide/indexing.html#returning-a-view-versus-a-copy\n",
      "  self._setitem_single_column(loc, value[:, i].tolist(), pi)\n",
      "/opt/conda/lib/python3.7/site-packages/pandas/core/indexing.py:1835: SettingWithCopyWarning: \n",
      "A value is trying to be set on a copy of a slice from a DataFrame.\n",
      "Try using .loc[row_indexer,col_indexer] = value instead\n",
      "\n",
      "See the caveats in the documentation: https://pandas.pydata.org/pandas-docs/stable/user_guide/indexing.html#returning-a-view-versus-a-copy\n",
      "  self._setitem_single_column(loc, value[:, i].tolist(), pi)\n",
      "/opt/conda/lib/python3.7/site-packages/pandas/core/indexing.py:1835: SettingWithCopyWarning: \n",
      "A value is trying to be set on a copy of a slice from a DataFrame.\n",
      "Try using .loc[row_indexer,col_indexer] = value instead\n",
      "\n",
      "See the caveats in the documentation: https://pandas.pydata.org/pandas-docs/stable/user_guide/indexing.html#returning-a-view-versus-a-copy\n",
      "  self._setitem_single_column(loc, value[:, i].tolist(), pi)\n",
      "/opt/conda/lib/python3.7/site-packages/pandas/core/indexing.py:1835: SettingWithCopyWarning: \n",
      "A value is trying to be set on a copy of a slice from a DataFrame.\n",
      "Try using .loc[row_indexer,col_indexer] = value instead\n",
      "\n",
      "See the caveats in the documentation: https://pandas.pydata.org/pandas-docs/stable/user_guide/indexing.html#returning-a-view-versus-a-copy\n",
      "  self._setitem_single_column(loc, value[:, i].tolist(), pi)\n",
      "/opt/conda/lib/python3.7/site-packages/pandas/core/indexing.py:1835: SettingWithCopyWarning: \n",
      "A value is trying to be set on a copy of a slice from a DataFrame.\n",
      "Try using .loc[row_indexer,col_indexer] = value instead\n",
      "\n",
      "See the caveats in the documentation: https://pandas.pydata.org/pandas-docs/stable/user_guide/indexing.html#returning-a-view-versus-a-copy\n",
      "  self._setitem_single_column(loc, value[:, i].tolist(), pi)\n",
      "/opt/conda/lib/python3.7/site-packages/pandas/core/indexing.py:1835: SettingWithCopyWarning: \n",
      "A value is trying to be set on a copy of a slice from a DataFrame.\n",
      "Try using .loc[row_indexer,col_indexer] = value instead\n",
      "\n",
      "See the caveats in the documentation: https://pandas.pydata.org/pandas-docs/stable/user_guide/indexing.html#returning-a-view-versus-a-copy\n",
      "  self._setitem_single_column(loc, value[:, i].tolist(), pi)\n",
      "/opt/conda/lib/python3.7/site-packages/pandas/core/indexing.py:1835: SettingWithCopyWarning: \n",
      "A value is trying to be set on a copy of a slice from a DataFrame.\n",
      "Try using .loc[row_indexer,col_indexer] = value instead\n",
      "\n",
      "See the caveats in the documentation: https://pandas.pydata.org/pandas-docs/stable/user_guide/indexing.html#returning-a-view-versus-a-copy\n",
      "  self._setitem_single_column(loc, value[:, i].tolist(), pi)\n",
      "/opt/conda/lib/python3.7/site-packages/pandas/core/indexing.py:1835: SettingWithCopyWarning: \n",
      "A value is trying to be set on a copy of a slice from a DataFrame.\n",
      "Try using .loc[row_indexer,col_indexer] = value instead\n",
      "\n",
      "See the caveats in the documentation: https://pandas.pydata.org/pandas-docs/stable/user_guide/indexing.html#returning-a-view-versus-a-copy\n",
      "  self._setitem_single_column(loc, value[:, i].tolist(), pi)\n",
      "/opt/conda/lib/python3.7/site-packages/pandas/core/indexing.py:1835: SettingWithCopyWarning: \n",
      "A value is trying to be set on a copy of a slice from a DataFrame.\n",
      "Try using .loc[row_indexer,col_indexer] = value instead\n",
      "\n",
      "See the caveats in the documentation: https://pandas.pydata.org/pandas-docs/stable/user_guide/indexing.html#returning-a-view-versus-a-copy\n",
      "  self._setitem_single_column(loc, value[:, i].tolist(), pi)\n",
      "/opt/conda/lib/python3.7/site-packages/pandas/core/indexing.py:1835: SettingWithCopyWarning: \n",
      "A value is trying to be set on a copy of a slice from a DataFrame.\n",
      "Try using .loc[row_indexer,col_indexer] = value instead\n",
      "\n",
      "See the caveats in the documentation: https://pandas.pydata.org/pandas-docs/stable/user_guide/indexing.html#returning-a-view-versus-a-copy\n",
      "  self._setitem_single_column(loc, value[:, i].tolist(), pi)\n",
      "/opt/conda/lib/python3.7/site-packages/pandas/core/indexing.py:1835: SettingWithCopyWarning: \n",
      "A value is trying to be set on a copy of a slice from a DataFrame.\n",
      "Try using .loc[row_indexer,col_indexer] = value instead\n",
      "\n",
      "See the caveats in the documentation: https://pandas.pydata.org/pandas-docs/stable/user_guide/indexing.html#returning-a-view-versus-a-copy\n",
      "  self._setitem_single_column(loc, value[:, i].tolist(), pi)\n",
      "/opt/conda/lib/python3.7/site-packages/pandas/core/indexing.py:1835: SettingWithCopyWarning: \n",
      "A value is trying to be set on a copy of a slice from a DataFrame.\n",
      "Try using .loc[row_indexer,col_indexer] = value instead\n",
      "\n",
      "See the caveats in the documentation: https://pandas.pydata.org/pandas-docs/stable/user_guide/indexing.html#returning-a-view-versus-a-copy\n",
      "  self._setitem_single_column(loc, value[:, i].tolist(), pi)\n",
      "/opt/conda/lib/python3.7/site-packages/pandas/core/indexing.py:1835: SettingWithCopyWarning: \n",
      "A value is trying to be set on a copy of a slice from a DataFrame.\n",
      "Try using .loc[row_indexer,col_indexer] = value instead\n",
      "\n",
      "See the caveats in the documentation: https://pandas.pydata.org/pandas-docs/stable/user_guide/indexing.html#returning-a-view-versus-a-copy\n",
      "  self._setitem_single_column(loc, value[:, i].tolist(), pi)\n",
      "/opt/conda/lib/python3.7/site-packages/pandas/core/indexing.py:1835: SettingWithCopyWarning: \n",
      "A value is trying to be set on a copy of a slice from a DataFrame.\n",
      "Try using .loc[row_indexer,col_indexer] = value instead\n",
      "\n",
      "See the caveats in the documentation: https://pandas.pydata.org/pandas-docs/stable/user_guide/indexing.html#returning-a-view-versus-a-copy\n",
      "  self._setitem_single_column(loc, value[:, i].tolist(), pi)\n",
      "/opt/conda/lib/python3.7/site-packages/pandas/core/indexing.py:1835: SettingWithCopyWarning: \n",
      "A value is trying to be set on a copy of a slice from a DataFrame.\n",
      "Try using .loc[row_indexer,col_indexer] = value instead\n",
      "\n",
      "See the caveats in the documentation: https://pandas.pydata.org/pandas-docs/stable/user_guide/indexing.html#returning-a-view-versus-a-copy\n",
      "  self._setitem_single_column(loc, value[:, i].tolist(), pi)\n",
      "/opt/conda/lib/python3.7/site-packages/pandas/core/indexing.py:1835: SettingWithCopyWarning: \n",
      "A value is trying to be set on a copy of a slice from a DataFrame.\n",
      "Try using .loc[row_indexer,col_indexer] = value instead\n",
      "\n",
      "See the caveats in the documentation: https://pandas.pydata.org/pandas-docs/stable/user_guide/indexing.html#returning-a-view-versus-a-copy\n",
      "  self._setitem_single_column(loc, value[:, i].tolist(), pi)\n",
      "/opt/conda/lib/python3.7/site-packages/pandas/core/indexing.py:1835: SettingWithCopyWarning: \n",
      "A value is trying to be set on a copy of a slice from a DataFrame.\n",
      "Try using .loc[row_indexer,col_indexer] = value instead\n",
      "\n",
      "See the caveats in the documentation: https://pandas.pydata.org/pandas-docs/stable/user_guide/indexing.html#returning-a-view-versus-a-copy\n",
      "  self._setitem_single_column(loc, value[:, i].tolist(), pi)\n",
      "/opt/conda/lib/python3.7/site-packages/pandas/core/indexing.py:1835: SettingWithCopyWarning: \n",
      "A value is trying to be set on a copy of a slice from a DataFrame.\n",
      "Try using .loc[row_indexer,col_indexer] = value instead\n",
      "\n",
      "See the caveats in the documentation: https://pandas.pydata.org/pandas-docs/stable/user_guide/indexing.html#returning-a-view-versus-a-copy\n",
      "  self._setitem_single_column(loc, value[:, i].tolist(), pi)\n",
      "/opt/conda/lib/python3.7/site-packages/pandas/core/indexing.py:1835: SettingWithCopyWarning: \n",
      "A value is trying to be set on a copy of a slice from a DataFrame.\n",
      "Try using .loc[row_indexer,col_indexer] = value instead\n",
      "\n",
      "See the caveats in the documentation: https://pandas.pydata.org/pandas-docs/stable/user_guide/indexing.html#returning-a-view-versus-a-copy\n",
      "  self._setitem_single_column(loc, value[:, i].tolist(), pi)\n",
      "/opt/conda/lib/python3.7/site-packages/pandas/core/indexing.py:1835: SettingWithCopyWarning: \n",
      "A value is trying to be set on a copy of a slice from a DataFrame.\n",
      "Try using .loc[row_indexer,col_indexer] = value instead\n",
      "\n",
      "See the caveats in the documentation: https://pandas.pydata.org/pandas-docs/stable/user_guide/indexing.html#returning-a-view-versus-a-copy\n",
      "  self._setitem_single_column(loc, value[:, i].tolist(), pi)\n",
      "/opt/conda/lib/python3.7/site-packages/pandas/core/indexing.py:1835: SettingWithCopyWarning: \n",
      "A value is trying to be set on a copy of a slice from a DataFrame.\n",
      "Try using .loc[row_indexer,col_indexer] = value instead\n",
      "\n",
      "See the caveats in the documentation: https://pandas.pydata.org/pandas-docs/stable/user_guide/indexing.html#returning-a-view-versus-a-copy\n",
      "  self._setitem_single_column(loc, value[:, i].tolist(), pi)\n",
      "/opt/conda/lib/python3.7/site-packages/pandas/core/indexing.py:1835: SettingWithCopyWarning: \n",
      "A value is trying to be set on a copy of a slice from a DataFrame.\n",
      "Try using .loc[row_indexer,col_indexer] = value instead\n",
      "\n",
      "See the caveats in the documentation: https://pandas.pydata.org/pandas-docs/stable/user_guide/indexing.html#returning-a-view-versus-a-copy\n",
      "  self._setitem_single_column(loc, value[:, i].tolist(), pi)\n",
      "/opt/conda/lib/python3.7/site-packages/pandas/core/indexing.py:1835: SettingWithCopyWarning: \n",
      "A value is trying to be set on a copy of a slice from a DataFrame.\n",
      "Try using .loc[row_indexer,col_indexer] = value instead\n",
      "\n",
      "See the caveats in the documentation: https://pandas.pydata.org/pandas-docs/stable/user_guide/indexing.html#returning-a-view-versus-a-copy\n",
      "  self._setitem_single_column(loc, value[:, i].tolist(), pi)\n",
      "/opt/conda/lib/python3.7/site-packages/pandas/core/indexing.py:1835: SettingWithCopyWarning: \n",
      "A value is trying to be set on a copy of a slice from a DataFrame.\n",
      "Try using .loc[row_indexer,col_indexer] = value instead\n",
      "\n",
      "See the caveats in the documentation: https://pandas.pydata.org/pandas-docs/stable/user_guide/indexing.html#returning-a-view-versus-a-copy\n",
      "  self._setitem_single_column(loc, value[:, i].tolist(), pi)\n",
      "/opt/conda/lib/python3.7/site-packages/pandas/core/indexing.py:1835: SettingWithCopyWarning: \n",
      "A value is trying to be set on a copy of a slice from a DataFrame.\n",
      "Try using .loc[row_indexer,col_indexer] = value instead\n",
      "\n",
      "See the caveats in the documentation: https://pandas.pydata.org/pandas-docs/stable/user_guide/indexing.html#returning-a-view-versus-a-copy\n",
      "  self._setitem_single_column(loc, value[:, i].tolist(), pi)\n",
      "/opt/conda/lib/python3.7/site-packages/pandas/core/indexing.py:1835: SettingWithCopyWarning: \n",
      "A value is trying to be set on a copy of a slice from a DataFrame.\n",
      "Try using .loc[row_indexer,col_indexer] = value instead\n",
      "\n",
      "See the caveats in the documentation: https://pandas.pydata.org/pandas-docs/stable/user_guide/indexing.html#returning-a-view-versus-a-copy\n",
      "  self._setitem_single_column(loc, value[:, i].tolist(), pi)\n",
      "/opt/conda/lib/python3.7/site-packages/pandas/core/indexing.py:1835: SettingWithCopyWarning: \n",
      "A value is trying to be set on a copy of a slice from a DataFrame.\n",
      "Try using .loc[row_indexer,col_indexer] = value instead\n",
      "\n",
      "See the caveats in the documentation: https://pandas.pydata.org/pandas-docs/stable/user_guide/indexing.html#returning-a-view-versus-a-copy\n",
      "  self._setitem_single_column(loc, value[:, i].tolist(), pi)\n",
      "/opt/conda/lib/python3.7/site-packages/pandas/core/indexing.py:1835: SettingWithCopyWarning: \n",
      "A value is trying to be set on a copy of a slice from a DataFrame.\n",
      "Try using .loc[row_indexer,col_indexer] = value instead\n",
      "\n",
      "See the caveats in the documentation: https://pandas.pydata.org/pandas-docs/stable/user_guide/indexing.html#returning-a-view-versus-a-copy\n",
      "  self._setitem_single_column(loc, value[:, i].tolist(), pi)\n",
      "/opt/conda/lib/python3.7/site-packages/pandas/core/indexing.py:1835: SettingWithCopyWarning: \n",
      "A value is trying to be set on a copy of a slice from a DataFrame.\n",
      "Try using .loc[row_indexer,col_indexer] = value instead\n",
      "\n",
      "See the caveats in the documentation: https://pandas.pydata.org/pandas-docs/stable/user_guide/indexing.html#returning-a-view-versus-a-copy\n",
      "  self._setitem_single_column(loc, value[:, i].tolist(), pi)\n",
      "/opt/conda/lib/python3.7/site-packages/pandas/core/indexing.py:1835: SettingWithCopyWarning: \n",
      "A value is trying to be set on a copy of a slice from a DataFrame.\n",
      "Try using .loc[row_indexer,col_indexer] = value instead\n",
      "\n",
      "See the caveats in the documentation: https://pandas.pydata.org/pandas-docs/stable/user_guide/indexing.html#returning-a-view-versus-a-copy\n",
      "  self._setitem_single_column(loc, value[:, i].tolist(), pi)\n",
      "/opt/conda/lib/python3.7/site-packages/pandas/core/indexing.py:1835: SettingWithCopyWarning: \n",
      "A value is trying to be set on a copy of a slice from a DataFrame.\n",
      "Try using .loc[row_indexer,col_indexer] = value instead\n",
      "\n",
      "See the caveats in the documentation: https://pandas.pydata.org/pandas-docs/stable/user_guide/indexing.html#returning-a-view-versus-a-copy\n",
      "  self._setitem_single_column(loc, value[:, i].tolist(), pi)\n",
      "/opt/conda/lib/python3.7/site-packages/pandas/core/indexing.py:1835: SettingWithCopyWarning: \n",
      "A value is trying to be set on a copy of a slice from a DataFrame.\n",
      "Try using .loc[row_indexer,col_indexer] = value instead\n",
      "\n",
      "See the caveats in the documentation: https://pandas.pydata.org/pandas-docs/stable/user_guide/indexing.html#returning-a-view-versus-a-copy\n",
      "  self._setitem_single_column(loc, value[:, i].tolist(), pi)\n",
      "/opt/conda/lib/python3.7/site-packages/pandas/core/indexing.py:1835: SettingWithCopyWarning: \n",
      "A value is trying to be set on a copy of a slice from a DataFrame.\n",
      "Try using .loc[row_indexer,col_indexer] = value instead\n",
      "\n",
      "See the caveats in the documentation: https://pandas.pydata.org/pandas-docs/stable/user_guide/indexing.html#returning-a-view-versus-a-copy\n",
      "  self._setitem_single_column(loc, value[:, i].tolist(), pi)\n",
      "/opt/conda/lib/python3.7/site-packages/pandas/core/indexing.py:1835: SettingWithCopyWarning: \n",
      "A value is trying to be set on a copy of a slice from a DataFrame.\n",
      "Try using .loc[row_indexer,col_indexer] = value instead\n",
      "\n",
      "See the caveats in the documentation: https://pandas.pydata.org/pandas-docs/stable/user_guide/indexing.html#returning-a-view-versus-a-copy\n",
      "  self._setitem_single_column(loc, value[:, i].tolist(), pi)\n",
      "/opt/conda/lib/python3.7/site-packages/pandas/core/indexing.py:1835: SettingWithCopyWarning: \n",
      "A value is trying to be set on a copy of a slice from a DataFrame.\n",
      "Try using .loc[row_indexer,col_indexer] = value instead\n",
      "\n",
      "See the caveats in the documentation: https://pandas.pydata.org/pandas-docs/stable/user_guide/indexing.html#returning-a-view-versus-a-copy\n",
      "  self._setitem_single_column(loc, value[:, i].tolist(), pi)\n",
      "/opt/conda/lib/python3.7/site-packages/pandas/core/indexing.py:1835: SettingWithCopyWarning: \n",
      "A value is trying to be set on a copy of a slice from a DataFrame.\n",
      "Try using .loc[row_indexer,col_indexer] = value instead\n",
      "\n",
      "See the caveats in the documentation: https://pandas.pydata.org/pandas-docs/stable/user_guide/indexing.html#returning-a-view-versus-a-copy\n",
      "  self._setitem_single_column(loc, value[:, i].tolist(), pi)\n",
      "/opt/conda/lib/python3.7/site-packages/pandas/core/indexing.py:1835: SettingWithCopyWarning: \n",
      "A value is trying to be set on a copy of a slice from a DataFrame.\n",
      "Try using .loc[row_indexer,col_indexer] = value instead\n",
      "\n",
      "See the caveats in the documentation: https://pandas.pydata.org/pandas-docs/stable/user_guide/indexing.html#returning-a-view-versus-a-copy\n",
      "  self._setitem_single_column(loc, value[:, i].tolist(), pi)\n",
      "/opt/conda/lib/python3.7/site-packages/pandas/core/indexing.py:1835: SettingWithCopyWarning: \n",
      "A value is trying to be set on a copy of a slice from a DataFrame.\n",
      "Try using .loc[row_indexer,col_indexer] = value instead\n",
      "\n",
      "See the caveats in the documentation: https://pandas.pydata.org/pandas-docs/stable/user_guide/indexing.html#returning-a-view-versus-a-copy\n",
      "  self._setitem_single_column(loc, value[:, i].tolist(), pi)\n",
      "/opt/conda/lib/python3.7/site-packages/pandas/core/indexing.py:1835: SettingWithCopyWarning: \n",
      "A value is trying to be set on a copy of a slice from a DataFrame.\n",
      "Try using .loc[row_indexer,col_indexer] = value instead\n",
      "\n",
      "See the caveats in the documentation: https://pandas.pydata.org/pandas-docs/stable/user_guide/indexing.html#returning-a-view-versus-a-copy\n",
      "  self._setitem_single_column(loc, value[:, i].tolist(), pi)\n",
      "/opt/conda/lib/python3.7/site-packages/pandas/core/indexing.py:1835: SettingWithCopyWarning: \n",
      "A value is trying to be set on a copy of a slice from a DataFrame.\n",
      "Try using .loc[row_indexer,col_indexer] = value instead\n",
      "\n",
      "See the caveats in the documentation: https://pandas.pydata.org/pandas-docs/stable/user_guide/indexing.html#returning-a-view-versus-a-copy\n",
      "  self._setitem_single_column(loc, value[:, i].tolist(), pi)\n",
      "/opt/conda/lib/python3.7/site-packages/pandas/core/indexing.py:1835: SettingWithCopyWarning: \n",
      "A value is trying to be set on a copy of a slice from a DataFrame.\n",
      "Try using .loc[row_indexer,col_indexer] = value instead\n",
      "\n",
      "See the caveats in the documentation: https://pandas.pydata.org/pandas-docs/stable/user_guide/indexing.html#returning-a-view-versus-a-copy\n",
      "  self._setitem_single_column(loc, value[:, i].tolist(), pi)\n",
      "/opt/conda/lib/python3.7/site-packages/pandas/core/indexing.py:1835: SettingWithCopyWarning: \n",
      "A value is trying to be set on a copy of a slice from a DataFrame.\n",
      "Try using .loc[row_indexer,col_indexer] = value instead\n",
      "\n",
      "See the caveats in the documentation: https://pandas.pydata.org/pandas-docs/stable/user_guide/indexing.html#returning-a-view-versus-a-copy\n",
      "  self._setitem_single_column(loc, value[:, i].tolist(), pi)\n",
      "/opt/conda/lib/python3.7/site-packages/pandas/core/indexing.py:1835: SettingWithCopyWarning: \n",
      "A value is trying to be set on a copy of a slice from a DataFrame.\n",
      "Try using .loc[row_indexer,col_indexer] = value instead\n",
      "\n",
      "See the caveats in the documentation: https://pandas.pydata.org/pandas-docs/stable/user_guide/indexing.html#returning-a-view-versus-a-copy\n",
      "  self._setitem_single_column(loc, value[:, i].tolist(), pi)\n",
      "/opt/conda/lib/python3.7/site-packages/pandas/core/indexing.py:1835: SettingWithCopyWarning: \n",
      "A value is trying to be set on a copy of a slice from a DataFrame.\n",
      "Try using .loc[row_indexer,col_indexer] = value instead\n",
      "\n",
      "See the caveats in the documentation: https://pandas.pydata.org/pandas-docs/stable/user_guide/indexing.html#returning-a-view-versus-a-copy\n",
      "  self._setitem_single_column(loc, value[:, i].tolist(), pi)\n",
      "/opt/conda/lib/python3.7/site-packages/pandas/core/indexing.py:1835: SettingWithCopyWarning: \n",
      "A value is trying to be set on a copy of a slice from a DataFrame.\n",
      "Try using .loc[row_indexer,col_indexer] = value instead\n",
      "\n",
      "See the caveats in the documentation: https://pandas.pydata.org/pandas-docs/stable/user_guide/indexing.html#returning-a-view-versus-a-copy\n",
      "  self._setitem_single_column(loc, value[:, i].tolist(), pi)\n",
      "/opt/conda/lib/python3.7/site-packages/pandas/core/indexing.py:1835: SettingWithCopyWarning: \n",
      "A value is trying to be set on a copy of a slice from a DataFrame.\n",
      "Try using .loc[row_indexer,col_indexer] = value instead\n",
      "\n",
      "See the caveats in the documentation: https://pandas.pydata.org/pandas-docs/stable/user_guide/indexing.html#returning-a-view-versus-a-copy\n",
      "  self._setitem_single_column(loc, value[:, i].tolist(), pi)\n"
     ]
    },
    {
     "name": "stdout",
     "output_type": "stream",
     "text": [
      "Ordinal Encoding done for column BsmtExposure\n",
      "---------------------------------------\n",
      "Ordinal Encoding starting for column GarageCond\n",
      "Ordinal Encoding done for column GarageCond\n",
      "---------------------------------------\n",
      "Ordinal Encoding starting for column LotConfig\n",
      "Ordinal Encoding done for column LotConfig\n",
      "---------------------------------------\n",
      "Ordinal Encoding starting for column Functional\n",
      "Ordinal Encoding done for column Functional\n",
      "---------------------------------------\n",
      "Ordinal Encoding starting for column BsmtFinType2\n",
      "Ordinal Encoding done for column BsmtFinType2\n",
      "---------------------------------------\n",
      "Ordinal Encoding starting for column BsmtQual\n",
      "Ordinal Encoding done for column BsmtQual\n",
      "---------------------------------------\n"
     ]
    },
    {
     "name": "stderr",
     "output_type": "stream",
     "text": [
      "/opt/conda/lib/python3.7/site-packages/pandas/core/indexing.py:1835: SettingWithCopyWarning: \n",
      "A value is trying to be set on a copy of a slice from a DataFrame.\n",
      "Try using .loc[row_indexer,col_indexer] = value instead\n",
      "\n",
      "See the caveats in the documentation: https://pandas.pydata.org/pandas-docs/stable/user_guide/indexing.html#returning-a-view-versus-a-copy\n",
      "  self._setitem_single_column(loc, value[:, i].tolist(), pi)\n",
      "/opt/conda/lib/python3.7/site-packages/pandas/core/indexing.py:1835: SettingWithCopyWarning: \n",
      "A value is trying to be set on a copy of a slice from a DataFrame.\n",
      "Try using .loc[row_indexer,col_indexer] = value instead\n",
      "\n",
      "See the caveats in the documentation: https://pandas.pydata.org/pandas-docs/stable/user_guide/indexing.html#returning-a-view-versus-a-copy\n",
      "  self._setitem_single_column(loc, value[:, i].tolist(), pi)\n",
      "/opt/conda/lib/python3.7/site-packages/pandas/core/indexing.py:1835: SettingWithCopyWarning: \n",
      "A value is trying to be set on a copy of a slice from a DataFrame.\n",
      "Try using .loc[row_indexer,col_indexer] = value instead\n",
      "\n",
      "See the caveats in the documentation: https://pandas.pydata.org/pandas-docs/stable/user_guide/indexing.html#returning-a-view-versus-a-copy\n",
      "  self._setitem_single_column(loc, value[:, i].tolist(), pi)\n",
      "/opt/conda/lib/python3.7/site-packages/pandas/core/indexing.py:1835: SettingWithCopyWarning: \n",
      "A value is trying to be set on a copy of a slice from a DataFrame.\n",
      "Try using .loc[row_indexer,col_indexer] = value instead\n",
      "\n",
      "See the caveats in the documentation: https://pandas.pydata.org/pandas-docs/stable/user_guide/indexing.html#returning-a-view-versus-a-copy\n",
      "  self._setitem_single_column(loc, value[:, i].tolist(), pi)\n",
      "/opt/conda/lib/python3.7/site-packages/pandas/core/indexing.py:1835: SettingWithCopyWarning: \n",
      "A value is trying to be set on a copy of a slice from a DataFrame.\n",
      "Try using .loc[row_indexer,col_indexer] = value instead\n",
      "\n",
      "See the caveats in the documentation: https://pandas.pydata.org/pandas-docs/stable/user_guide/indexing.html#returning-a-view-versus-a-copy\n",
      "  self._setitem_single_column(loc, value[:, i].tolist(), pi)\n",
      "/opt/conda/lib/python3.7/site-packages/pandas/core/indexing.py:1835: SettingWithCopyWarning: \n",
      "A value is trying to be set on a copy of a slice from a DataFrame.\n",
      "Try using .loc[row_indexer,col_indexer] = value instead\n",
      "\n",
      "See the caveats in the documentation: https://pandas.pydata.org/pandas-docs/stable/user_guide/indexing.html#returning-a-view-versus-a-copy\n",
      "  self._setitem_single_column(loc, value[:, i].tolist(), pi)\n",
      "/opt/conda/lib/python3.7/site-packages/pandas/core/indexing.py:1835: SettingWithCopyWarning: \n",
      "A value is trying to be set on a copy of a slice from a DataFrame.\n",
      "Try using .loc[row_indexer,col_indexer] = value instead\n",
      "\n",
      "See the caveats in the documentation: https://pandas.pydata.org/pandas-docs/stable/user_guide/indexing.html#returning-a-view-versus-a-copy\n",
      "  self._setitem_single_column(loc, value[:, i].tolist(), pi)\n",
      "/opt/conda/lib/python3.7/site-packages/pandas/core/indexing.py:1835: SettingWithCopyWarning: \n",
      "A value is trying to be set on a copy of a slice from a DataFrame.\n",
      "Try using .loc[row_indexer,col_indexer] = value instead\n",
      "\n",
      "See the caveats in the documentation: https://pandas.pydata.org/pandas-docs/stable/user_guide/indexing.html#returning-a-view-versus-a-copy\n",
      "  self._setitem_single_column(loc, value[:, i].tolist(), pi)\n",
      "/opt/conda/lib/python3.7/site-packages/pandas/core/indexing.py:1835: SettingWithCopyWarning: \n",
      "A value is trying to be set on a copy of a slice from a DataFrame.\n",
      "Try using .loc[row_indexer,col_indexer] = value instead\n",
      "\n",
      "See the caveats in the documentation: https://pandas.pydata.org/pandas-docs/stable/user_guide/indexing.html#returning-a-view-versus-a-copy\n",
      "  self._setitem_single_column(loc, value[:, i].tolist(), pi)\n"
     ]
    }
   ],
   "source": [
    "from sklearn.preprocessing import OrdinalEncoder\n",
    "\n",
    "\n",
    "for j in cat_col_ordinal:\n",
    "    print(\"Ordinal Encoding starting for column\",j)\n",
    "    OE = OrdinalEncoder(categories=[list(set(list(df_tr_.loc[:,j].unique())).\n",
    "                                         union(set(list(df_test_.loc[:,j].unique()))))])\n",
    "    df_tr_.loc[:,j] = OE.fit_transform(df_tr_[[j]])\n",
    "    df_test_.loc[:,j] = OE.transform(df_test_[[j]])\n",
    "    print(\"Ordinal Encoding done for column\",j)\n",
    "    print(\"---------------------------------------\")\n"
   ]
  },
  {
   "cell_type": "code",
   "execution_count": 22,
   "id": "083dfc41",
   "metadata": {
    "execution": {
     "iopub.execute_input": "2023-01-28T20:40:06.733268Z",
     "iopub.status.busy": "2023-01-28T20:40:06.732340Z",
     "iopub.status.idle": "2023-01-28T20:40:06.749992Z",
     "shell.execute_reply": "2023-01-28T20:40:06.747685Z"
    },
    "papermill": {
     "duration": 0.034008,
     "end_time": "2023-01-28T20:40:06.752747",
     "exception": false,
     "start_time": "2023-01-28T20:40:06.718739",
     "status": "completed"
    },
    "tags": []
   },
   "outputs": [
    {
     "name": "stdout",
     "output_type": "stream",
     "text": [
      "Label encoding for Street column\n",
      "Encoding done for Street column\n",
      "------------------------------\n",
      "Label encoding for BldgType column\n",
      "Encoding done for BldgType column\n",
      "------------------------------\n",
      "Label encoding for SaleType column\n",
      "Encoding done for SaleType column\n",
      "------------------------------\n",
      "Label encoding for CentralAir column\n",
      "Encoding done for CentralAir column\n",
      "------------------------------\n"
     ]
    },
    {
     "name": "stderr",
     "output_type": "stream",
     "text": [
      "/opt/conda/lib/python3.7/site-packages/pandas/core/indexing.py:1773: SettingWithCopyWarning: \n",
      "A value is trying to be set on a copy of a slice from a DataFrame.\n",
      "Try using .loc[row_indexer,col_indexer] = value instead\n",
      "\n",
      "See the caveats in the documentation: https://pandas.pydata.org/pandas-docs/stable/user_guide/indexing.html#returning-a-view-versus-a-copy\n",
      "  self._setitem_single_column(ilocs[0], value, pi)\n"
     ]
    }
   ],
   "source": [
    "from sklearn.preprocessing import LabelEncoder\n",
    "encoder = LabelEncoder()\n",
    "\n",
    "\n",
    "for col in cat_col_label:\n",
    "    print(\"Label encoding for\",col, \"column\")\n",
    "    df_tr_.loc[:,col] = encoder.fit_transform(df_tr_.loc[:,col])\n",
    "    df_test_.loc[:,col]  = encoder.fit_transform(df_test_.loc[:,col])\n",
    "    print(\"Encoding done for\",col,\"column\")\n",
    "    print(\"------------------------------\")\n",
    "        "
   ]
  },
  {
   "cell_type": "markdown",
   "id": "d847222f",
   "metadata": {
    "papermill": {
     "duration": 0.011952,
     "end_time": "2023-01-28T20:40:06.777058",
     "exception": false,
     "start_time": "2023-01-28T20:40:06.765106",
     "status": "completed"
    },
    "tags": []
   },
   "source": [
    "Check if there is any missing values in Training and Test dataset."
   ]
  },
  {
   "cell_type": "code",
   "execution_count": 23,
   "id": "ccd84951",
   "metadata": {
    "execution": {
     "iopub.execute_input": "2023-01-28T20:40:06.803568Z",
     "iopub.status.busy": "2023-01-28T20:40:06.802473Z",
     "iopub.status.idle": "2023-01-28T20:40:06.815202Z",
     "shell.execute_reply": "2023-01-28T20:40:06.813808Z"
    },
    "papermill": {
     "duration": 0.029055,
     "end_time": "2023-01-28T20:40:06.818070",
     "exception": false,
     "start_time": "2023-01-28T20:40:06.789015",
     "status": "completed"
    },
    "tags": []
   },
   "outputs": [
    {
     "data": {
      "text/plain": [
       "(0, 0)"
      ]
     },
     "execution_count": 23,
     "metadata": {},
     "output_type": "execute_result"
    }
   ],
   "source": [
    "df_tr_.isna().any().sum(), df_test_.isna().any().sum()"
   ]
  },
  {
   "cell_type": "code",
   "execution_count": 24,
   "id": "a6ed38bf",
   "metadata": {
    "execution": {
     "iopub.execute_input": "2023-01-28T20:40:06.845314Z",
     "iopub.status.busy": "2023-01-28T20:40:06.844099Z",
     "iopub.status.idle": "2023-01-28T20:40:07.103020Z",
     "shell.execute_reply": "2023-01-28T20:40:07.101932Z"
    },
    "papermill": {
     "duration": 0.275011,
     "end_time": "2023-01-28T20:40:07.105709",
     "exception": false,
     "start_time": "2023-01-28T20:40:06.830698",
     "status": "completed"
    },
    "tags": []
   },
   "outputs": [],
   "source": [
    "from sklearn.ensemble import RandomForestRegressor\n",
    "from sklearn.model_selection import cross_val_score"
   ]
  },
  {
   "cell_type": "code",
   "execution_count": 25,
   "id": "28ec4598",
   "metadata": {
    "execution": {
     "iopub.execute_input": "2023-01-28T20:40:07.131845Z",
     "iopub.status.busy": "2023-01-28T20:40:07.131455Z",
     "iopub.status.idle": "2023-01-28T20:40:07.139761Z",
     "shell.execute_reply": "2023-01-28T20:40:07.138850Z"
    },
    "papermill": {
     "duration": 0.024128,
     "end_time": "2023-01-28T20:40:07.142044",
     "exception": false,
     "start_time": "2023-01-28T20:40:07.117916",
     "status": "completed"
    },
    "tags": []
   },
   "outputs": [],
   "source": [
    "y = df_tr_['SalePrice']\n",
    "X = df_tr_.drop('SalePrice', axis=1)"
   ]
  },
  {
   "cell_type": "code",
   "execution_count": 26,
   "id": "97b0053b",
   "metadata": {
    "execution": {
     "iopub.execute_input": "2023-01-28T20:40:07.168755Z",
     "iopub.status.busy": "2023-01-28T20:40:07.168046Z",
     "iopub.status.idle": "2023-01-28T20:40:16.599594Z",
     "shell.execute_reply": "2023-01-28T20:40:16.598184Z"
    },
    "papermill": {
     "duration": 9.447681,
     "end_time": "2023-01-28T20:40:16.602261",
     "exception": false,
     "start_time": "2023-01-28T20:40:07.154580",
     "status": "completed"
    },
    "tags": []
   },
   "outputs": [
    {
     "name": "stdout",
     "output_type": "stream",
     "text": [
      "0.8481849258136103\n"
     ]
    }
   ],
   "source": [
    "model = RandomForestRegressor(max_leaf_nodes=100)\n",
    "model.fit(X, y)\n",
    "score = cross_val_score(model, X, y, cv=10)\n",
    "print(score.mean())"
   ]
  },
  {
   "cell_type": "markdown",
   "id": "7fe34446",
   "metadata": {
    "papermill": {
     "duration": 0.011576,
     "end_time": "2023-01-28T20:40:16.627504",
     "exception": false,
     "start_time": "2023-01-28T20:40:16.615928",
     "status": "completed"
    },
    "tags": []
   },
   "source": [
    "Extracting test id from test dataset..."
   ]
  },
  {
   "cell_type": "code",
   "execution_count": 27,
   "id": "556a55f8",
   "metadata": {
    "execution": {
     "iopub.execute_input": "2023-01-28T20:40:16.653873Z",
     "iopub.status.busy": "2023-01-28T20:40:16.653091Z",
     "iopub.status.idle": "2023-01-28T20:40:16.659577Z",
     "shell.execute_reply": "2023-01-28T20:40:16.658658Z"
    },
    "papermill": {
     "duration": 0.023004,
     "end_time": "2023-01-28T20:40:16.662535",
     "exception": false,
     "start_time": "2023-01-28T20:40:16.639531",
     "status": "completed"
    },
    "tags": []
   },
   "outputs": [
    {
     "name": "stdout",
     "output_type": "stream",
     "text": [
      "0       1461\n",
      "1       1462\n",
      "2       1463\n",
      "3       1464\n",
      "4       1465\n",
      "        ... \n",
      "1454    2915\n",
      "1455    2916\n",
      "1456    2917\n",
      "1457    2918\n",
      "1458    2919\n",
      "Name: Id, Length: 1459, dtype: int64\n"
     ]
    }
   ],
   "source": [
    "test_id = df_test_['Id']\n",
    "print(test_id)"
   ]
  },
  {
   "cell_type": "markdown",
   "id": "67517aaa",
   "metadata": {
    "papermill": {
     "duration": 0.011785,
     "end_time": "2023-01-28T20:40:16.687161",
     "exception": false,
     "start_time": "2023-01-28T20:40:16.675376",
     "status": "completed"
    },
    "tags": []
   },
   "source": [
    "Reordering test dataset columns per training dataset feeded to RandomForest model."
   ]
  },
  {
   "cell_type": "code",
   "execution_count": 28,
   "id": "ed475fb4",
   "metadata": {
    "execution": {
     "iopub.execute_input": "2023-01-28T20:40:16.714544Z",
     "iopub.status.busy": "2023-01-28T20:40:16.714156Z",
     "iopub.status.idle": "2023-01-28T20:40:16.720671Z",
     "shell.execute_reply": "2023-01-28T20:40:16.719498Z"
    },
    "papermill": {
     "duration": 0.022521,
     "end_time": "2023-01-28T20:40:16.722904",
     "exception": false,
     "start_time": "2023-01-28T20:40:16.700383",
     "status": "completed"
    },
    "tags": []
   },
   "outputs": [],
   "source": [
    "df_test_ = df_test_[X.columns]"
   ]
  },
  {
   "cell_type": "code",
   "execution_count": 29,
   "id": "ea91fe8c",
   "metadata": {
    "execution": {
     "iopub.execute_input": "2023-01-28T20:40:16.750772Z",
     "iopub.status.busy": "2023-01-28T20:40:16.750314Z",
     "iopub.status.idle": "2023-01-28T20:40:16.783069Z",
     "shell.execute_reply": "2023-01-28T20:40:16.781776Z"
    },
    "papermill": {
     "duration": 0.049564,
     "end_time": "2023-01-28T20:40:16.785600",
     "exception": false,
     "start_time": "2023-01-28T20:40:16.736036",
     "status": "completed"
    },
    "tags": []
   },
   "outputs": [
    {
     "name": "stdout",
     "output_type": "stream",
     "text": [
      "[123281.13110154 150433.526782   172570.70643702 ... 143361.50463565\n",
      " 117619.46986105 223183.6404189 ]\n"
     ]
    }
   ],
   "source": [
    "saleprice = model.predict(df_test_)\n",
    "print(saleprice)"
   ]
  },
  {
   "cell_type": "code",
   "execution_count": 30,
   "id": "4f79ed40",
   "metadata": {
    "execution": {
     "iopub.execute_input": "2023-01-28T20:40:16.812408Z",
     "iopub.status.busy": "2023-01-28T20:40:16.811715Z",
     "iopub.status.idle": "2023-01-28T20:40:16.829855Z",
     "shell.execute_reply": "2023-01-28T20:40:16.828905Z"
    },
    "papermill": {
     "duration": 0.034273,
     "end_time": "2023-01-28T20:40:16.832271",
     "exception": false,
     "start_time": "2023-01-28T20:40:16.797998",
     "status": "completed"
    },
    "tags": []
   },
   "outputs": [
    {
     "data": {
      "text/html": [
       "<div>\n",
       "<style scoped>\n",
       "    .dataframe tbody tr th:only-of-type {\n",
       "        vertical-align: middle;\n",
       "    }\n",
       "\n",
       "    .dataframe tbody tr th {\n",
       "        vertical-align: top;\n",
       "    }\n",
       "\n",
       "    .dataframe thead th {\n",
       "        text-align: right;\n",
       "    }\n",
       "</style>\n",
       "<table border=\"1\" class=\"dataframe\">\n",
       "  <thead>\n",
       "    <tr style=\"text-align: right;\">\n",
       "      <th></th>\n",
       "      <th>Id</th>\n",
       "      <th>SalePrice</th>\n",
       "    </tr>\n",
       "  </thead>\n",
       "  <tbody>\n",
       "    <tr>\n",
       "      <th>863</th>\n",
       "      <td>2324</td>\n",
       "      <td>167020.190580</td>\n",
       "    </tr>\n",
       "    <tr>\n",
       "      <th>792</th>\n",
       "      <td>2253</td>\n",
       "      <td>157310.119644</td>\n",
       "    </tr>\n",
       "    <tr>\n",
       "      <th>1154</th>\n",
       "      <td>2615</td>\n",
       "      <td>152685.487641</td>\n",
       "    </tr>\n",
       "    <tr>\n",
       "      <th>731</th>\n",
       "      <td>2192</td>\n",
       "      <td>88635.137622</td>\n",
       "    </tr>\n",
       "    <tr>\n",
       "      <th>235</th>\n",
       "      <td>1696</td>\n",
       "      <td>251573.890219</td>\n",
       "    </tr>\n",
       "    <tr>\n",
       "      <th>383</th>\n",
       "      <td>1844</td>\n",
       "      <td>135398.158303</td>\n",
       "    </tr>\n",
       "    <tr>\n",
       "      <th>267</th>\n",
       "      <td>1728</td>\n",
       "      <td>184571.078957</td>\n",
       "    </tr>\n",
       "    <tr>\n",
       "      <th>1071</th>\n",
       "      <td>2532</td>\n",
       "      <td>229170.536624</td>\n",
       "    </tr>\n",
       "    <tr>\n",
       "      <th>686</th>\n",
       "      <td>2147</td>\n",
       "      <td>156313.132868</td>\n",
       "    </tr>\n",
       "    <tr>\n",
       "      <th>763</th>\n",
       "      <td>2224</td>\n",
       "      <td>213058.945408</td>\n",
       "    </tr>\n",
       "  </tbody>\n",
       "</table>\n",
       "</div>"
      ],
      "text/plain": [
       "        Id      SalePrice\n",
       "863   2324  167020.190580\n",
       "792   2253  157310.119644\n",
       "1154  2615  152685.487641\n",
       "731   2192   88635.137622\n",
       "235   1696  251573.890219\n",
       "383   1844  135398.158303\n",
       "267   1728  184571.078957\n",
       "1071  2532  229170.536624\n",
       "686   2147  156313.132868\n",
       "763   2224  213058.945408"
      ]
     },
     "execution_count": 30,
     "metadata": {},
     "output_type": "execute_result"
    }
   ],
   "source": [
    "submission = pd.DataFrame({\n",
    "    \"Id\": test_id,\n",
    "    \"SalePrice\": saleprice\n",
    "})\n",
    "\n",
    "submission.to_csv(\"submission_shivam9400.csv\", index=False)\n",
    "submission.sample(10)"
   ]
  }
 ],
 "metadata": {
  "kernelspec": {
   "display_name": "Python 3",
   "language": "python",
   "name": "python3"
  },
  "language_info": {
   "codemirror_mode": {
    "name": "ipython",
    "version": 3
   },
   "file_extension": ".py",
   "mimetype": "text/x-python",
   "name": "python",
   "nbconvert_exporter": "python",
   "pygments_lexer": "ipython3",
   "version": "3.7.12"
  },
  "papermill": {
   "default_parameters": {},
   "duration": 21.720546,
   "end_time": "2023-01-28T20:40:17.565874",
   "environment_variables": {},
   "exception": null,
   "input_path": "__notebook__.ipynb",
   "output_path": "__notebook__.ipynb",
   "parameters": {},
   "start_time": "2023-01-28T20:39:55.845328",
   "version": "2.3.4"
  }
 },
 "nbformat": 4,
 "nbformat_minor": 5
}
